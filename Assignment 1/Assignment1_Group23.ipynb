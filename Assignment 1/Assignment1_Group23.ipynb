{
 "metadata": {
  "language_info": {
   "codemirror_mode": {
    "name": "ipython",
    "version": 3
   },
   "file_extension": ".py",
   "mimetype": "text/x-python",
   "name": "python",
   "nbconvert_exporter": "python",
   "pygments_lexer": "ipython3",
   "version": "3.8.8"
  },
  "orig_nbformat": 4,
  "kernelspec": {
   "name": "python3",
   "display_name": "Python 3.8.8 64-bit (conda)"
  },
  "interpreter": {
   "hash": "b3ba2566441a7c06988d0923437866b63cedc61552a5af99d1f4fb67d367b25f"
  }
 },
 "nbformat": 4,
 "nbformat_minor": 2,
 "cells": [
  {
   "source": [
    "# <center> Assignment 1 </center>"
   ],
   "cell_type": "markdown",
   "metadata": {}
  },
  {
   "source": [
    "### Q1. Create a list([3,4,5,7,8]) and store it in variable \"my_list\". The list contains 5 elements. Write a program to interchange the first and second elements with the last and second last elements respectively. The new list will be [8,7,5,4,3]. "
   ],
   "cell_type": "markdown",
   "metadata": {}
  },
  {
   "source": [
    "### Answer 1:"
   ],
   "cell_type": "markdown",
   "metadata": {}
  },
  {
   "cell_type": "code",
   "execution_count": 5,
   "metadata": {},
   "outputs": [
    {
     "output_type": "stream",
     "name": "stdout",
     "text": [
      "[8, 7, 5, 4, 3]\n"
     ]
    }
   ],
   "source": [
    "my_list = [3,4,5,7,8]\n",
    "\n",
    "def swap_list_elements(list, pos1, pos2):\n",
    "    list[pos1], list[pos2] = list[pos2], list[pos1]\n",
    "    return list\n",
    "\n",
    "swap_list_elements(my_list, 0, len(my_list) - 1)\n",
    "swap_list_elements(my_list, 1, len(my_list) - 2)\n",
    "print(my_list)\n"
   ]
  },
  {
   "source": [
    "### Q2. Create a dictionary with five stocks (any five stocks from S&P 500). The keys of the dictionary that you will have to populate are - Name, Company Sector, Price, Market Cap (USD Mn), and Price-Earnings Ratio. You should find such data on Yahoo Finance. The keys have to be strings. For example (https://finance.yahoo.com/quote/TSLA/)."
   ],
   "cell_type": "markdown",
   "metadata": {}
  },
  {
   "source": [
    "### Answer 2:"
   ],
   "cell_type": "markdown",
   "metadata": {}
  },
  {
   "cell_type": "code",
   "execution_count": 44,
   "metadata": {},
   "outputs": [],
   "source": [
    "import yfinance as yf"
   ]
  },
  {
   "cell_type": "code",
   "execution_count": 47,
   "metadata": {},
   "outputs": [],
   "source": [
    "# List of Stocks for which we will collect data\n",
    "tickers_list = ['MSFT', 'HD', 'LOW', 'ADBE', 'DUK'] \n",
    "\n",
    "# Collating Keys in Yahoo Finance Data Corresponding to our requirements\n",
    "stock_info_reqd = {'Name':'longName',\n",
    "                        'Company_Sector':'sector', \n",
    "                        'Price (USD)':'currentPrice', \n",
    "                        'Market_Cap(USD_Million)':'marketCap', \n",
    "                        'PE_Ratio':'trailingPE'}\n",
    "\n",
    "# Keys for which value needs to be converted into million\n",
    "million_conv_keys = ['Market_Cap(USD_Million)']\n"
   ]
  },
  {
   "cell_type": "code",
   "execution_count": 68,
   "metadata": {},
   "outputs": [],
   "source": [
    "# Company Class for fetching the requisite data\n",
    "\n",
    "class Company:\n",
    "\n",
    "    def __init__(self, ticker, stock_info_reqd, million_conv_keys):        \n",
    "        \n",
    "        self.internal_fetch_stock_info(ticker, stock_info_reqd, million_conv_keys)\n",
    "        self.ticker = ticker\n",
    "\n",
    "    def __repr__(self):\n",
    "        return self.ticker\n",
    "    \n",
    "    def internal_fetch_stock_info(self, ticker, stock_info_reqd, million_conv_keys):\n",
    "        \n",
    "        self.stock_info_dict = dict(zip(stock_info_reqd.keys(),\n",
    "                            list(map(yf.Ticker(ticker).info.get, stock_info_reqd.values()))))\n",
    "        \n",
    "        for key in million_conv_keys:\n",
    "            self.stock_info_dict[key] = self.stock_info_dict[key]/10**6\n",
    "    \n",
    "    def external_fetch_stock_info(self):\n",
    "        return self.stock_info_dict\n",
    "\n",
    "    def stock_info_keys(self):\n",
    "        return self.stock_info_dict.keys()"
   ]
  },
  {
   "cell_type": "code",
   "execution_count": 69,
   "metadata": {},
   "outputs": [
    {
     "output_type": "stream",
     "name": "stdout",
     "text": [
      "{'MSFT': {'Name': 'Microsoft Corporation', 'Company_Sector': 'Technology', 'Price (USD)': 289.67, 'Market_Cap(USD_Million)': 2181669.978112, 'PE_Ratio': 39.475338}, 'HD': {'Name': 'The Home Depot, Inc.', 'Company_Sector': 'Consumer Cyclical', 'Price (USD)': 332.84, 'Market_Cap(USD_Million)': 353895.481344, 'PE_Ratio': 24.263012}, 'LOW': {'Name': \"Lowe's Companies, Inc.\", 'Company_Sector': 'Consumer Cyclical', 'Price (USD)': 200.84, 'Market_Cap(USD_Million)': 141971.78368, 'PE_Ratio': 21.906631}, 'ADBE': {'Name': 'Adobe Inc.', 'Company_Sector': 'Technology', 'Price (USD)': 625.87, 'Market_Cap(USD_Million)': 298164.453376, 'PE_Ratio': 54.239536}, 'DUK': {'Name': 'Duke Energy Corporation', 'Company_Sector': 'Utilities', 'Price (USD)': 104.47, 'Market_Cap(USD_Million)': 80360.308736, 'PE_Ratio': 59.156284}}\n"
     ]
    }
   ],
   "source": [
    "companies_info_final = {ticker :  Company(ticker, stock_info_reqd, million_conv_keys).external_fetch_stock_info()\n",
    "                        for ticker in tickers_list}\n",
    "\n",
    "print(companies_info_final)"
   ]
  },
  {
   "cell_type": "code",
   "execution_count": null,
   "metadata": {},
   "outputs": [],
   "source": []
  },
  {
   "cell_type": "code",
   "execution_count": null,
   "metadata": {},
   "outputs": [],
   "source": []
  },
  {
   "cell_type": "code",
   "execution_count": null,
   "metadata": {},
   "outputs": [],
   "source": [
    "\n"
   ]
  },
  {
   "cell_type": "code",
   "execution_count": null,
   "metadata": {},
   "outputs": [],
   "source": []
  }
 ]
}