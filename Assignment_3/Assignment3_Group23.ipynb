{
 "metadata": {
  "language_info": {
   "codemirror_mode": {
    "name": "ipython",
    "version": 3
   },
   "file_extension": ".py",
   "mimetype": "text/x-python",
   "name": "python",
   "nbconvert_exporter": "python",
   "pygments_lexer": "ipython3",
   "version": "3.8.8"
  },
  "orig_nbformat": 4,
  "kernelspec": {
   "name": "python3",
   "display_name": "Python 3.8.8 64-bit (conda)"
  },
  "interpreter": {
   "hash": "b3ba2566441a7c06988d0923437866b63cedc61552a5af99d1f4fb67d367b25f"
  }
 },
 "nbformat": 4,
 "nbformat_minor": 2,
 "cells": [
  {
   "source": [
    "<h2><p align=center> Assignment - Module 3 </p></h2>\n",
    "<h3><p align=center> 30 July 2021 </p></h3>\n",
    "<h3><p align=center> Group 23: Aman Jindal | Yuhang Jiang | Daniel Gabriel Tan | Qining Liu </p></h3>\n",
    "<br /><br />"
   ],
   "cell_type": "markdown",
   "metadata": {}
  },
  {
   "cell_type": "code",
   "execution_count": 1,
   "metadata": {},
   "outputs": [],
   "source": [
    "# Importing Libraries\n",
    "\n",
    "import pandas as pd\n",
    "import numpy as np\n",
    "from pprint import pprint\n",
    "from functools import reduce\n",
    "import dateparser\n",
    "import matplotlib.pyplot as plt\n",
    "plt.style.use('seaborn')"
   ]
  },
  {
   "source": [
    "<hr style=\"border:.05px solid black\"><br>"
   ],
   "cell_type": "markdown",
   "metadata": {}
  },
  {
   "source": [
    "#### Q1. List Comprehension: First generate a list using the range(20) function. Next, create a second list that calculates $0.5 \\cdot n \\cdot (n+1)$ for each item $n$ in the first list. Solve this using a while loop and also the list comprehension method. Check if the outputs match for the two methods."
   ],
   "cell_type": "markdown",
   "metadata": {}
  },
  {
   "source": [
    "#### Answer 1:"
   ],
   "cell_type": "markdown",
   "metadata": {}
  },
  {
   "cell_type": "code",
   "execution_count": 2,
   "metadata": {},
   "outputs": [
    {
     "output_type": "stream",
     "name": "stdout",
     "text": [
      "Answer:\n\n [0.0, 1.0, 3.0, 6.0, 10.0, 15.0, 21.0, 28.0, 36.0, 45.0, 55.0, 66.0, 78.0, 91.0, 105.0, 120.0, 136.0, 153.0, 171.0, 190.0]\n\nLength of the list: 20\n"
     ]
    }
   ],
   "source": [
    "# While Loop Method\n",
    "\n",
    "input_list = range(20)\n",
    "ans_q1_whileLoop = []\n",
    "i = 0\n",
    "while i<len(input_list):\n",
    "    ans_q1_whileLoop.append(0.5*input_list[i]*(input_list[i]+1))\n",
    "    i = i+1\n",
    "\n",
    "print('Answer:\\n\\n {}'.format(ans_q1_whileLoop))\n",
    "print('\\nLength of the list: {}'.format(len(ans_q1_whileLoop)))"
   ]
  },
  {
   "cell_type": "code",
   "execution_count": 3,
   "metadata": {},
   "outputs": [
    {
     "output_type": "stream",
     "name": "stdout",
     "text": [
      "Answer:\n\n [0.0, 1.0, 3.0, 6.0, 10.0, 15.0, 21.0, 28.0, 36.0, 45.0, 55.0, 66.0, 78.0, 91.0, 105.0, 120.0, 136.0, 153.0, 171.0, 190.0]\n\nLength of the list: 20\n"
     ]
    }
   ],
   "source": [
    "# List Comprehension Method\n",
    "\n",
    "input_list = range(20)\n",
    "ans_q1_lc = [0.5*n*(n+1) for n in input_list]\n",
    "\n",
    "print('Answer:\\n\\n {}'.format(ans_q1_lc))\n",
    "print('\\nLength of the list: {}'.format(len(ans_q1_lc)))"
   ]
  },
  {
   "cell_type": "code",
   "execution_count": 4,
   "metadata": {},
   "outputs": [
    {
     "output_type": "stream",
     "name": "stdout",
     "text": [
      "Check if the lists are equal: True\n"
     ]
    }
   ],
   "source": [
    "# Check if the two lists are equal\n",
    "\n",
    "print('Check if the lists are equal: {}'.format(ans_q1_whileLoop == ans_q1_lc))"
   ]
  },
  {
   "source": [
    "<hr style=\"border:.05px solid black\"><br>"
   ],
   "cell_type": "markdown",
   "metadata": {}
  },
  {
   "source": [
    "#### Q2. Lambda function: Create a numpy array of integers from 1 to 50. Use the lambda function to compute $x^3+x^2+x+1$ for each element $x$ of the array. Compare your output using the list comprehension method."
   ],
   "cell_type": "markdown",
   "metadata": {}
  },
  {
   "source": [
    "#### Answer 2:"
   ],
   "cell_type": "markdown",
   "metadata": {}
  },
  {
   "cell_type": "code",
   "execution_count": 5,
   "metadata": {},
   "outputs": [],
   "source": [
    "# A General Purpose Function for calculating sum of a geometric power series where a = 1 & r = pow \n",
    "\n",
    "def sum_geom_pow(elem, pow): return sum([elem**p for p in range(pow+1)])"
   ]
  },
  {
   "cell_type": "code",
   "execution_count": 6,
   "metadata": {},
   "outputs": [
    {
     "output_type": "stream",
     "name": "stdout",
     "text": [
      "Answer:\n",
      "\n",
      "array([     4,     15,     40,     85,    156,    259,    400,    585,\n",
      "          820,   1111,   1464,   1885,   2380,   2955,   3616,   4369,\n",
      "         5220,   6175,   7240,   8421,   9724,  11155,  12720,  14425,\n",
      "        16276,  18279,  20440,  22765,  25260,  27931,  30784,  33825,\n",
      "        37060,  40495,  44136,  47989,  52060,  56355,  60880,  65641,\n",
      "        70644,  75895,  81400,  87165,  93196,  99499, 106080, 112945,\n",
      "       120100, 127551], dtype=int32)\n"
     ]
    }
   ],
   "source": [
    "# Lambda Function Method\n",
    "\n",
    "input_arr = np.arange(50)+1\n",
    "max_pow = 3\n",
    "\n",
    "cubic_func = lambda x: sum_geom_pow(x, max_pow)\n",
    "ans_q2_lambda = cubic_func(input_arr)\n",
    "print('Answer:\\n')\n",
    "pprint(ans_q2_lambda)"
   ]
  },
  {
   "cell_type": "code",
   "execution_count": 7,
   "metadata": {},
   "outputs": [
    {
     "output_type": "stream",
     "name": "stdout",
     "text": [
      "Answer:\n\narray([     4,     15,     40,     85,    156,    259,    400,    585,\n          820,   1111,   1464,   1885,   2380,   2955,   3616,   4369,\n         5220,   6175,   7240,   8421,   9724,  11155,  12720,  14425,\n        16276,  18279,  20440,  22765,  25260,  27931,  30784,  33825,\n        37060,  40495,  44136,  47989,  52060,  56355,  60880,  65641,\n        70644,  75895,  81400,  87165,  93196,  99499, 106080, 112945,\n       120100, 127551])\n"
     ]
    }
   ],
   "source": [
    "# List Comprehension Method\n",
    "\n",
    "input_arr = np.arange(50)+1\n",
    "max_pow = 3\n",
    "\n",
    "ans_q2_lc = np.array([sum_geom_pow(x, max_pow) for x in input_arr])\n",
    "print('Answer:\\n')\n",
    "pprint(ans_q2_lc)"
   ]
  },
  {
   "cell_type": "code",
   "execution_count": 8,
   "metadata": {},
   "outputs": [
    {
     "output_type": "stream",
     "name": "stdout",
     "text": [
      "Check if the arrays are equal: True\n"
     ]
    }
   ],
   "source": [
    "# Check if the two outputs are equal\n",
    "\n",
    "print('Check if the arrays are equal: {}'.format((ans_q2_lambda == ans_q2_lc).all()))"
   ]
  },
  {
   "source": [
    "<hr style=\"border:.05px solid black\"><br>"
   ],
   "cell_type": "markdown",
   "metadata": {}
  },
  {
   "source": [
    "#### Q3. For Loop: Create a list with range(50). Return $x^3+x^2+x+1$ for every element $x$ in the list with an exception that for the last 5 elements return $x^4+x^3+x^2+x+1$. Use a for loop to do this operation. Hint: You might want to read up on \"enumerate\" and how that can be used with a for loop."
   ],
   "cell_type": "markdown",
   "metadata": {}
  },
  {
   "source": [
    "#### Answer 3:"
   ],
   "cell_type": "markdown",
   "metadata": {}
  },
  {
   "cell_type": "code",
   "execution_count": 9,
   "metadata": {},
   "outputs": [
    {
     "output_type": "stream",
     "name": "stdout",
     "text": [
      "Answer: \n\n[1, 4, 15, 40, 85, 156, 259, 400, 585, 820, 1111, 1464, 1885, 2380, 2955, 3616, 4369, 5220, 6175, 7240, 8421, 9724, 11155, 12720, 14425, 16276, 18279, 20440, 22765, 25260, 27931, 30784, 33825, 37060, 40495, 44136, 47989, 52060, 56355, 60880, 65641, 70644, 75895, 81400, 87165, 4193821, 4576955, 4985761, 5421361, 5884901]\n"
     ]
    }
   ],
   "source": [
    "# For Loop Method\n",
    "\n",
    "input_list = range(50)\n",
    "last_elem_count = 5\n",
    "max_pow_start45 = 3\n",
    "max_pow_last5 = 4\n",
    "ans_q3_forLoop = []\n",
    "\n",
    "for i, x in enumerate(input_list):\n",
    "    if i >= len(input_list)-last_elem_count:\n",
    "        ans_q3_forLoop.append(sum_geom_pow(x, max_pow_last5))\n",
    "    else:\n",
    "        ans_q3_forLoop.append(sum_geom_pow(x, max_pow_start45))\n",
    "\n",
    "print('Answer: \\n\\n{}'.format(ans_q3_forLoop))"
   ]
  },
  {
   "cell_type": "code",
   "execution_count": 10,
   "metadata": {},
   "outputs": [
    {
     "output_type": "stream",
     "name": "stdout",
     "text": [
      "Answer: \n\n[1, 4, 15, 40, 85, 156, 259, 400, 585, 820, 1111, 1464, 1885, 2380, 2955, 3616, 4369, 5220, 6175, 7240, 8421, 9724, 11155, 12720, 14425, 16276, 18279, 20440, 22765, 25260, 27931, 30784, 33825, 37060, 40495, 44136, 47989, 52060, 56355, 60880, 65641, 70644, 75895, 81400, 87165, 4193821, 4576955, 4985761, 5421361, 5884901]\n"
     ]
    }
   ],
   "source": [
    "# List Comprehension Method\n",
    "\n",
    "input_list = range(50)\n",
    "last_elem_count = 5\n",
    "max_pow_start45 = 3\n",
    "max_pow_last5 = 4\n",
    "\n",
    "ans_q3_lc = [sum_geom_pow(x, max_pow_last5) \n",
    "             if i >= len(input_list)-last_elem_count\n",
    "             else sum_geom_pow(x, max_pow_start45)  \n",
    "             for i, x in enumerate(input_list)]\n",
    "\n",
    "print('Answer: \\n\\n{}'.format(ans_q3_lc))"
   ]
  },
  {
   "cell_type": "code",
   "execution_count": 11,
   "metadata": {},
   "outputs": [
    {
     "output_type": "stream",
     "name": "stdout",
     "text": [
      "Check if the arrays are equal: True\n"
     ]
    }
   ],
   "source": [
    "# Check if the two outputs are equal\n",
    "\n",
    "print('Check if the arrays are equal: {}'.format((ans_q3_forLoop == ans_q3_lc)))"
   ]
  },
  {
   "source": [
    "<hr style=\"border:.05px solid black\"><br>"
   ],
   "cell_type": "markdown",
   "metadata": {}
  },
  {
   "source": [
    "#### Q4. List comprehension with logical statements: First generate a list using the range(30) function. Next, create a second list that creates elements based on the logic below. Hint: You can do this by including an if statement inside your list comprehension.\n",
    "\n",
    "$f(x) =  x^2,\\; \\text{if x is even;}$<br>\n",
    "$f(x) =  x^3,\\; \\text{if x is odd.}$\n",
    "\n"
   ],
   "cell_type": "markdown",
   "metadata": {}
  },
  {
   "source": [
    "#### Answer 4:"
   ],
   "cell_type": "markdown",
   "metadata": {}
  },
  {
   "cell_type": "code",
   "execution_count": 12,
   "metadata": {},
   "outputs": [
    {
     "output_type": "stream",
     "name": "stdout",
     "text": [
      "Answer: \n\n[0, 1, 4, 27, 16, 125, 36, 343, 64, 729, 100, 1331, 144, 2197, 196, 3375, 256, 4913, 324, 6859, 400, 9261, 484, 12167, 576, 15625, 676, 19683, 784, 24389]\n"
     ]
    }
   ],
   "source": [
    "input_list = range(30)\n",
    "\n",
    "ans_q4 = [x**2 if x % 2 == 0 else x**3 for x in input_list]\n",
    "\n",
    "print('Answer: \\n\\n{}'.format(ans_q4))"
   ]
  },
  {
   "source": [
    "<hr style=\"border:.05px solid black\"><br>"
   ],
   "cell_type": "markdown",
   "metadata": {}
  },
  {
   "source": [
    "#### Q5. Fibonacci sequence: Construct a function \"fibonacci\" that takes in the required variable integer \"$n$\" and returns the $n_{th}$ term in a Fibonacci sequence (1,1,2,3,5,...). For example, if your call your function and pass in the argument n = 6, i.e fibonacci(n=6) it should return the value 8. You can use a for or a while loop inside your function. Print the function output for n=30, 50, and 100."
   ],
   "cell_type": "markdown",
   "metadata": {}
  },
  {
   "source": [
    "#### Answer 5:"
   ],
   "cell_type": "markdown",
   "metadata": {}
  },
  {
   "cell_type": "code",
   "execution_count": 13,
   "metadata": {},
   "outputs": [
    {
     "output_type": "stream",
     "name": "stdout",
     "text": [
      "Fibonacci Series Value at position 6: 8\n\nFibonacci Series Value at position 30: 832,040\n\nFibonacci Series Value at position 50: 12,586,269,025\n\nFibonacci Series Value at position 100: 354,224,848,179,261,915,075\n\n"
     ]
    }
   ],
   "source": [
    "# Method 1 of generating the nth element of the Fibonacci series\n",
    "\n",
    "pos_list = [6, 30, 50, 100]\n",
    "\n",
    "def get_fib_nth_elem_m1(elem_pos=0):\n",
    "    if isinstance(elem_pos, int) and elem_pos >= 0:\n",
    "        return reduce(lambda x, _:(x[1],x[0]+x[1]), range(elem_pos), (0,1))[0]\n",
    "    else:\n",
    "        raise TypeError('Element Position entered is not an integer greater than or equal to 0')\n",
    "\n",
    "for pos in pos_list:\n",
    "   print('Fibonacci Series Value at position {}: {:,}\\n'.format(pos, get_fib_nth_elem_m1(pos)))"
   ]
  },
  {
   "cell_type": "code",
   "execution_count": 14,
   "metadata": {
    "tags": []
   },
   "outputs": [
    {
     "output_type": "stream",
     "name": "stdout",
     "text": [
      "Fibonacci Series Value at position 6: 8\n\nFibonacci Series Value at position 30: 832,040\n\nFibonacci Series Value at position 50: 12,586,269,025\n\nFibonacci Series Value at position 100: 354,224,848,179,261,915,075\n\n"
     ]
    }
   ],
   "source": [
    "# Method 2 of generating the nth element of the Fibonacci series\n",
    "\n",
    "pos_list = [6, 30, 50, 100]\n",
    "\n",
    "def get_fib_nth_elem_m2(elem_pos=0):\n",
    "    \n",
    "    if isinstance(elem_pos, int) and elem_pos >= 0:\n",
    "        a, b = 0, 1\n",
    "        for i in range(elem_pos):\n",
    "            a, b = b, a+b\n",
    "        return a\n",
    "    else:\n",
    "        raise TypeError('Element Position entered is not an integer greater than or equal to 0')\n",
    "\n",
    "for pos in pos_list:\n",
    " print('Fibonacci Series Value at position {}: {:,}\\n'.format(pos, get_fib_nth_elem_m2(pos)))"
   ]
  },
  {
   "cell_type": "code",
   "execution_count": 15,
   "metadata": {},
   "outputs": [
    {
     "output_type": "stream",
     "name": "stdout",
     "text": [
      "Fibonacci Series Value at position 6: 8\n\nFibonacci Series Value at position 30: 832,040\n\nFibonacci Series Value at position 50: 12,586,269,025\n\nFibonacci Series Value at position 100: 354,224,848,179,261,915,075\n\n"
     ]
    }
   ],
   "source": [
    "# Method 3 of generating the nth element of the Fibonacci series\n",
    "\n",
    "from functools import lru_cache\n",
    "pos_list = [6, 30, 50, 100]\n",
    "\n",
    "@lru_cache(maxsize=1000)\n",
    "def get_fib_nth_elem_m3(n):\n",
    "    \"\"\"Function takes input integer 'n' and returns the n-th sequence of the fibonacci series \n",
    "       (no loops & no memoization)\"\"\"\n",
    "    \n",
    "    if n <= 2 : return 1\n",
    "    else : return get_fib_nth_elem_m3(n-1) + get_fib_nth_elem_m3(n-2)\n",
    "\n",
    "for pos in pos_list:\n",
    "   print('Fibonacci Series Value at position {}: {:,}\\n'.format(pos, get_fib_nth_elem_m3(pos)))"
   ]
  },
  {
   "source": [
    "<hr style=\"border:.05px solid black\"><br>"
   ],
   "cell_type": "markdown",
   "metadata": {}
  },
  {
   "source": [
    "#### Q6. Net Present Value: Code up a function that computes the net present value of a stream of cash-flows and call this function NPV. The function will take three inputs - cash-flows, dates, and interest rate (constant). We will use the formula specified below to compute the NPV of a stream of cash-flows on specific dates. The time periods $t_1,t_2,..,t_N$ are computed as differences from first date. Make sure you annualize the difference in days (convert them to years). Check out <a href=\"https://en.wikipedia.org/wiki/Net_present_value\" target=\"_blank\">this wikipedia</a> link if you want to read up some more.\n",
    "\n",
    "**Run this function for the following input:**\n",
    "\n",
    "$\\text{Compute : } \\text{NPV}(\\text{CF} = \\text{[-100,50,40,30]},\\,\\text{date} = [\\text{01-Jan-2020,31-Mar-2021,30-Jun-2021,31-Dec-2024}],\\,r=0.05)$"
   ],
   "cell_type": "markdown",
   "metadata": {}
  },
  {
   "source": [
    "#### Answer 6:<br>\n",
    "#### Notes on Parsing Dates:\n",
    "- Date Formats are available <a href=\"https://docs.python.org/2/library/datetime.html#strftime-and-strptime-behavior\" target=\"_blank\">here</a> for parsing string as dates \n",
    "- <a href=\"https://dateparser.readthedocs.io/en/latest/\" target=\"_blank\">dateparser library</a>. It can even parse dates even without providing a date format\n",
    "- More date formats can be supplied as additional list elements in `date_formats` argument of `dateparser.parse`"
   ],
   "cell_type": "markdown",
   "metadata": {}
  },
  {
   "cell_type": "code",
   "execution_count": 16,
   "metadata": {},
   "outputs": [],
   "source": [
    "def NPV(cash_flows, cf_dates, interest_rate):\n",
    "    '''\n",
    "    Computes the NPV of a series of cash flows. First date in the cf_dates list is assumed to \n",
    "    be the NPV calculation date\n",
    "\n",
    "    Args:\n",
    "    cash_flows (list of int/float): List of cash flows\n",
    "    cf_dates (list of str): List of cash flow dates in the str format 'DD-MMM-YYYY' (e.g.: 01-Jan-2021)\n",
    "    interest_rate (int/float): Yearly Interest Rate for discounting (absolute value)\n",
    "\n",
    "    Returns:\n",
    "    npv (float): Net Present Value of the cash flows\n",
    "    ''' \n",
    "\n",
    "    \n",
    "    date_formats = ['%d-%b-%Y']             # More date formats can be supplied as additional list elements\n",
    "    days_a_year = 365                       # Actual/365 day-count convetion is chosen\n",
    "\n",
    "    cf_dates_parsed = [dateparser.parse(date_string=date_string, \n",
    "                                        date_formats=date_formats).date()\n",
    "                       for date_string in cf_dates]  \n",
    "    \n",
    "    cf_time_deltas =  [(cf_date - cf_dates_parsed[0]).days/days_a_year \n",
    "                       for cf_date in cf_dates_parsed]\n",
    "\n",
    "    pv_cash_flows = [cash_flow/(1+interest_rate)**time_to_maturity \n",
    "                     for cash_flow, time_to_maturity in zip(cash_flows, cf_time_deltas)]\n",
    "\n",
    "    npv = sum(pv_cash_flows)\n",
    "    return npv"
   ]
  },
  {
   "cell_type": "code",
   "execution_count": 17,
   "metadata": {},
   "outputs": [
    {
     "output_type": "stream",
     "name": "stdout",
     "text": [
      "NPV of the cash flows: 7.74\n"
     ]
    }
   ],
   "source": [
    "cash_flows = [-100, 50, 40, 30]\n",
    "cash_flow_dates = ['01-Jan-2020', '31-Mar-2021', '30-Jun-2021', '31-Dec-2024']\n",
    "interest_rate = 0.05\n",
    "\n",
    "print('NPV of the cash flows: {:,.2f}'.format(NPV(cash_flows, cash_flow_dates, interest_rate)))"
   ]
  },
  {
   "source": [
    "<hr style=\"border:.05px solid black\"><br>"
   ],
   "cell_type": "markdown",
   "metadata": {}
  },
  {
   "source": [
    "#### Q7. Pandas .rolling() is a very useful function to know (check out the doc string of pandas.Series.rolling for a better understanding of what the function does). In this problem, we will calculate the 1-year rolling sum of returns for the data in stock_data.csv file. Clean the data (remove strings and drop NaN values). Use the pandas rolling function (window=12) to calculate the sum of 1-year returns. Add this column to the original dataframe."
   ],
   "cell_type": "markdown",
   "metadata": {}
  },
  {
   "source": [
    "#### Answer 7:"
   ],
   "cell_type": "markdown",
   "metadata": {}
  },
  {
   "cell_type": "code",
   "execution_count": 18,
   "metadata": {},
   "outputs": [],
   "source": [
    "# Setting the Input File Path\n",
    "\n",
    "input_file_folder = 'Data'          # Folder Name within the cwd where the data file is stored\n",
    "input_file_name = 'stock_data.csv'  # Name of the File\n",
    "cwd = os.getcwd() \n",
    "input_file_path = os.path.join(cwd, input_file_folder, input_file_name)"
   ]
  },
  {
   "source": [
    "- More details on dtpyes & converters used below while reading data is available <a href=\"https://pbpython.com/pandas_dtypes.html\" target=\"_blank\">\n",
    "- In the above link, the comparison between specifying dtypes and specifying converters while using the pandas read function is quite useful "
   ],
   "cell_type": "markdown",
   "metadata": {}
  },
  {
   "cell_type": "code",
   "execution_count": 19,
   "metadata": {},
   "outputs": [
    {
     "output_type": "execute_result",
     "data": {
      "text/plain": [
       "(2913, 6)"
      ]
     },
     "metadata": {},
     "execution_count": 19
    }
   ],
   "source": [
    "# Reading & Cleaning the Data\n",
    "\n",
    "def numeric_converter(x): return pd.to_numeric(x, errors='coerce')  \n",
    "\n",
    "# Specifying dtype converters for specific columns\n",
    "converters = {'total_returns': numeric_converter,                      \n",
    "              'price': numeric_converter,\n",
    "              'date': lambda x: pd.to_datetime(x, errors='coerce')}\n",
    "\n",
    "df = pd.read_csv(filepath_or_buffer=input_file_path, sep=',', header=0, \n",
    "                 converters=converters).dropna(axis=0, how='any').reset_index(drop=True)\n",
    "\n",
    "df.drop_duplicates(subset=['permno', 'date'], keep='first', inplace=True, ignore_index=True)\n",
    "df.sort_values(by = ['permno', 'date'], ascending=[True, True], inplace=True, ignore_index=True)\n",
    "df.shape"
   ]
  },
  {
   "cell_type": "code",
   "execution_count": 20,
   "metadata": {},
   "outputs": [
    {
     "output_type": "stream",
     "name": "stdout",
     "text": [
      "      permno          company_name       date  total_returns  price  \\\n2908   10137  ALLEGHENY ENERGY INC 2010-07-31       0.102514  22.80   \n2909   10137  ALLEGHENY ENERGY INC 2010-08-31      -0.010965  22.55   \n2910   10137  ALLEGHENY ENERGY INC 2010-09-30       0.094013  24.52   \n2911   10137  ALLEGHENY ENERGY INC 2010-10-31      -0.053834  23.20   \n2912   10137  ALLEGHENY ENERGY INC 2011-01-31       0.063531  25.78   \n\n      share_outstanding  roll_returns_12months  \n2908             169579              -0.041395  \n2909             169615              -0.099960  \n2910             169615              -0.015792  \n2911             169615               0.069891  \n2912             169939                    NaN  \n"
     ]
    }
   ],
   "source": [
    "# Calculating 12 months Rolling Returns & Adding them to the DataFrame \n",
    "\n",
    "def calc_roll_returns(df, months=12):\n",
    "    \n",
    "    # Offset is 1 month less as the addition of returns is inclusive of both start & end months\n",
    "    # Additional 10 days are added while comparing 11 month previous days to allow for misaligned months such as Feb\n",
    "\n",
    "    offset = months - 1\n",
    "    df.reset_index(inplace=True, drop=True)\n",
    "    return [np.nan if index < offset else np.nan if \n",
    "            df.loc[index-offset, 'date'] < (df.loc[index, 'date'] \n",
    "            - pd.DateOffset(months=offset, days=10)) else\n",
    "            sum([df_group.loc[i, 'total_returns'] for i in range(index-offset, index+1)])\n",
    "            for index in df_group.index]\n",
    "\n",
    "months = 12                     # Rolling returns required for 12 months\n",
    "roll_returns = []\n",
    "for _, df_group in df.groupby('permno'):\n",
    "    roll_returns.extend(calc_roll_returns(df_group, 12))\n",
    "\n",
    "df['roll_returns_'+str(months)+'months'] = roll_returns\n",
    "print(df.tail())"
   ]
  },
  {
   "source": [
    "<hr style=\"border:.05px solid black\"><br>"
   ],
   "cell_type": "markdown",
   "metadata": {}
  },
  {
   "source": [
    "#### Q8. Combining Pandas apply and lambda functions: Load and clean the stock_data.csv file. Compute the market cap by multiplying the price and outstanding shares. You need to segregate PERMNOs into large-cap, mid-cap, and small-cap stocks. First, you have to write a function that takes in a value $x$ (market cap) as an input. For segregating use the following criteria mentioned below. Use the pandas apply along with lambda function, to pass the function pass you have just coded up.\n",
    "\n",
    "$f(x)=\\text{small cap}    ,\\quad  \\text{if x} < 100000$<br>\n",
    "$f(x)=\\text{mid cap}      ,\\quad  100000 \\le \\text{if x} < 1000000$<br>\n",
    "$f(x)=\\text{large cap}    ,\\quad  \\text{if x} \\ge  1000000$"
   ],
   "cell_type": "markdown",
   "metadata": {}
  },
  {
   "source": [
    "#### Answer 8:"
   ],
   "cell_type": "markdown",
   "metadata": {}
  },
  {
   "cell_type": "code",
   "execution_count": 21,
   "metadata": {},
   "outputs": [
    {
     "output_type": "stream",
     "name": "stdout",
     "text": [
      "Answer:\n\n{'small_cap': [10001, 10014, 10028, 10029, 10042, 10057, 10066, 10097, 10116, 10125], 'mid_cap': [10006, 10048, 10051, 10064, 10071, 10085, 10092, 10102, 10120, 10123], 'large_cap': [10104, 10108, 10119, 10126, 10137]}\n"
     ]
    }
   ],
   "source": [
    "# For each permno, average market cap has been used yo determine market cap size\n",
    "\n",
    "m_cap_types = ['small_cap', 'mid_cap', 'large_cap']\n",
    "\n",
    "pd.options.display.float_format = '{:,.2f}'.format       # Setting Display Options for Market Cap\n",
    "\n",
    "df['market_cap'] = df['price']*df['share_outstanding']\n",
    "mcap_determiner = lambda x: np.select(condlist=\n",
    "                            [x['market_cap']<10**5, x['market_cap']>10**6],\n",
    "                            choicelist=['small_cap', 'large_cap'],\n",
    "                                      default='mid_cap') \n",
    "\n",
    "df_updated = df.groupby('permno')['market_cap'].mean().reset_index()\\\n",
    "           .assign(m_cap_size = lambda x: mcap_determiner(x)) \n",
    "\n",
    "m_cap_permno_dict = {m_cap_type: \n",
    "                    df_updated.loc[df_updated['m_cap_size'] == m_cap_type, 'permno'].unique().tolist()\n",
    "                    for m_cap_type in m_cap_types}\n",
    "print('Answer:\\n\\n{}'.format(m_cap_permno_dict))"
   ]
  },
  {
   "source": [
    "#### Q9.Plot and Subplots: For the 4 PERMNOs - (10137, 10051, 10057, 10028), calculate the cumulative sum of returns and plot them in a 4-by-4 sub plot. Also, plot all their cumulative sum of returns in one plot. Hint: To compute the cumulative sum, you can use the .cumsum() function of pandas. You can also use the .plot() function of pandas dataframe instead of using matplotlib's plt function. "
   ],
   "cell_type": "markdown",
   "metadata": {}
  },
  {
   "source": [
    "#### Answer 9:"
   ],
   "cell_type": "markdown",
   "metadata": {}
  },
  {
   "cell_type": "code",
   "execution_count": 22,
   "metadata": {},
   "outputs": [],
   "source": [
    "# Creating a Folder within cwd where Images will be stored, if none exists\n",
    "\n",
    "images_folder = 'Images'   # Folder Name within the cwd where Images will stored  \n",
    "cwd = os.getcwd()\n",
    "images_folder_path = os.path.join(cwd, images_folder)\n",
    "\n",
    "if not os.path.exists(images_folder_path):\n",
    "    os.makedirs(images_folder_path)"
   ]
  },
  {
   "cell_type": "code",
   "execution_count": 23,
   "metadata": {},
   "outputs": [],
   "source": [
    "# Plotting a 4-by-4 subplot\n",
    "\n",
    "image_name = 'image1.png'       # Name of the Image File\n",
    "image_path = os.path.join(images_folder_path, image_name)\n",
    "\n",
    "fig, ((ax1,ax2),(ax3,ax4)) = plt.subplots(2,2,sharex=False, sharey=False, \n",
    "                                          squeeze=True, figsize=(10,6))\n",
    "\n",
    "axs_permno = {ax1: 10137,ax2: 10051,ax3: 10057,ax4: 10028} \n",
    "dfs_to_plot = {}\n",
    "for ax, permno in axs_permno.items(): \n",
    "    dfs_to_plot[permno] = df.loc[df['permno'] == permno, \n",
    "                                 ['date','total_returns']].set_index('date').cumsum()\n",
    "    \n",
    "    ax.plot(dfs_to_plot[permno], label='permno: {}'.format(permno))\n",
    "    ax.tick_params(labelsize=10)\n",
    "    ax.legend(fontsize=12,frameon=True)\n",
    "\n",
    "fig.text(0.5, 0.04, 'Date', ha='center', fontsize=12)\n",
    "fig.text(0.08, 0.5, 'Cumulative Returns (Absolute)', va='center', rotation='vertical', fontsize=12)\n",
    "fig.suptitle(\"Cumulative Returns over Time for different permnos\", ha='center', fontsize=16)\n",
    "fig.tight_layout()\n",
    "fig.subplots_adjust(left = 0.14,top=0.92, bottom = 0.14)\n",
    "plt.savefig(image_path)\n",
    "plt.close();"
   ]
  },
  {
   "source": [
    "<img src='.//Images/image1.png'/>\n"
   ],
   "cell_type": "markdown",
   "metadata": {}
  },
  {
   "cell_type": "code",
   "execution_count": 24,
   "metadata": {},
   "outputs": [],
   "source": [
    "# Plotting a cumulative single plot for all the 4 permnos\n",
    "\n",
    "image_name = 'image2.png'       # Name of the Image File\n",
    "image_path = os.path.join(images_folder_path, image_name)\n",
    "fig = plt.figure(figsize=(10, 6))\n",
    "for permno, df_to_plot in dfs_to_plot.items():\n",
    "    plt.plot(df_to_plot, label='permno: {}'.format(permno))\n",
    "\n",
    "ax = plt.gca()\n",
    "ax.legend(fontsize=12,frameon=True, loc='upper left');\n",
    "plt.xlabel('Date', fontsize=12)\n",
    "plt.ylabel('Cumulative Returns (Absolute)', fontsize=12)\n",
    "plt.title(\"Cumulative Returns over Time for different permnos\", fontsize=16)\n",
    "plt.savefig(image_path)\n",
    "plt.close();"
   ]
  },
  {
   "source": [
    "<img src='.//Images/image2.png'/>"
   ],
   "cell_type": "markdown",
   "metadata": {}
  },
  {
   "source": [
    "<hr style=\"border:1px solid black\">"
   ],
   "cell_type": "markdown",
   "metadata": {}
  },
  {
   "source": [
    "<h2><p align=center>The End.</p></h2>"
   ],
   "cell_type": "markdown",
   "metadata": {}
  },
  {
   "source": [
    "<hr style=\"border:1px solid black\">"
   ],
   "cell_type": "markdown",
   "metadata": {}
  }
 ]
}