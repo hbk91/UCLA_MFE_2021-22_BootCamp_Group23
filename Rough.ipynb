{
 "metadata": {
  "language_info": {
   "codemirror_mode": {
    "name": "ipython",
    "version": 3
   },
   "file_extension": ".py",
   "mimetype": "text/x-python",
   "name": "python",
   "nbconvert_exporter": "python",
   "pygments_lexer": "ipython3",
   "version": "3.8.8"
  },
  "orig_nbformat": 4,
  "kernelspec": {
   "name": "python3",
   "display_name": "Python 3.8.8 64-bit (conda)"
  },
  "interpreter": {
   "hash": "b3ba2566441a7c06988d0923437866b63cedc61552a5af99d1f4fb67d367b25f"
  }
 },
 "nbformat": 4,
 "nbformat_minor": 2,
 "cells": [
  {
   "cell_type": "code",
   "execution_count": 1,
   "metadata": {},
   "outputs": [],
   "source": [
    "import pandas as pd\n",
    "import numpy as np"
   ]
  },
  {
   "cell_type": "code",
   "execution_count": 3,
   "metadata": {},
   "outputs": [],
   "source": [
    "a = np.array([1,2,3,4])"
   ]
  },
  {
   "source": [],
   "cell_type": "markdown",
   "metadata": {}
  },
  {
   "source": [
    "#### Answer 2:\n",
    "\n",
    "- Partitioning a Set: For any two sets $A$ and $B$, $B$ and $A \\cap B^c$ are disjoint. Thus,\n",
    "  \n",
    "$$A \\cup B = B \\cup (A \\cap B^c) \\qquad (1)$$\n",
    "\n",
    "- For every finite sequence of n disjoint events $A_1,.....,A_n$, the probability of the union of the events is equal to the summation of their individual properties. Thus,\n",
    "\n",
    "$$Pr(A \\cup B) = Pr(B) \\cup Pr(A \\cap B^c) \\qquad (2)$$\n",
    "\n",
    "- For any two events A and B, the events $A \\cap B^c$ and $A \\cap B$ are disjoint. Thus,\n",
    "\n",
    "$$A = (A \\cap B) \\cup (A \\cap B^c) \\qquad (3)$$\n",
    "\n",
    "$$\\implies Pr(A) = Pr(A \\cap B) + Pr(A \\cap B^c) \\qquad (4)$$\n",
    "\n",
    "$$\\implies Pr(A \\cap B^c) = Pr(A) - Pr(A \\cap B) \\qquad (5)$$\n",
    "\n",
    "- Hence, from (1) and (5), we get,\n",
    "\n",
    "$$Pr(A \\cup B) = Pr(A) + Pr(B) - Pr(A \\cap B) \\qquad (6)$$\n",
    "\n",
    "Q.E.D."
   ],
   "cell_type": "markdown",
   "metadata": {}
  },
  {
   "cell_type": "code",
   "execution_count": null,
   "metadata": {},
   "outputs": [],
   "source": []
  }
 ]
}