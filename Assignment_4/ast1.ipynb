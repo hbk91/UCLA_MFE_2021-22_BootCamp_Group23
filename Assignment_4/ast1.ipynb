{
 "metadata": {
  "language_info": {
   "codemirror_mode": {
    "name": "ipython",
    "version": 3
   },
   "file_extension": ".py",
   "mimetype": "text/x-python",
   "name": "python",
   "nbconvert_exporter": "python",
   "pygments_lexer": "ipython3",
   "version": "3.8.8"
  },
  "orig_nbformat": 4,
  "kernelspec": {
   "name": "python3",
   "display_name": "Python 3.8.8 64-bit (conda)"
  },
  "interpreter": {
   "hash": "b3ba2566441a7c06988d0923437866b63cedc61552a5af99d1f4fb67d367b25f"
  }
 },
 "nbformat": 4,
 "nbformat_minor": 2,
 "cells": [
  {
   "source": [
    "<h2><p align=center> Assignment - Module 4 </p></h2>\n",
    "<h3><p align=center> 31 July 2021 </p></h3>\n",
    "<h3><p align=center> Group 23: Aman Jindal | Yuhang Jiang | Daniel Gabriel Tan | Qining Liu </p></h3><br>"
   ],
   "cell_type": "markdown",
   "metadata": {}
  },
  {
   "source": [
    "#### Q1.There are 10 people. What are the number of ways in which you can split them into a team of 6 and a team of 4? Additionally, what are the number of ways in which you can split them into two teams of 5 each?"
   ],
   "cell_type": "markdown",
   "metadata": {}
  },
  {
   "source": [
    "#### Answer 1:\n",
    "\n",
    "- Number of ways to split the 10 people in teams of 6 and 4 are $^{10}C_{6}\\, =\\,^{10}C_{4}$\n",
    "- Number of ways to split the 10 people in teams of 5 and 5 are $^{10}C_{5}/2$. This is because the two groups are identical in number. Thus, division by 2."
   ],
   "cell_type": "markdown",
   "metadata": {}
  },
  {
   "source": [
    "<hr style=\"height:1.5px;color:black;background-color:black\">"
   ],
   "cell_type": "markdown",
   "metadata": {}
  },
  {
   "source": [
    "#### Q2.  Prove P(A ∪ B) = P(A) + P(B) − P(A ∩ B). Hint: The goal is to prove this mathematically (not using Venn diagrams). Try writing A ∪ B as union of three disjoint sets and then apply axiom 3 that we discussed in class."
   ],
   "cell_type": "markdown",
   "metadata": {}
  },
  {
   "source": [
    "#### Answer 2:\n",
    "\n",
    "- Partitioning a Set: For every two sets $A$ and $B$, $B$ and $A \\cap B^c$ are disjoint.\n",
    "\n",
    "<div align=center>aman $A\\cup B = B \\cup (A \\cap B^c)$ jindal</div>"
   ],
   "cell_type": "markdown",
   "metadata": {}
  },
  {
   "source": [
    "<p style=\"text-align: center;\">Centered $Aman$ text</p>"
   ],
   "cell_type": "markdown",
   "metadata": {}
  },
  {
   "cell_type": "code",
   "execution_count": null,
   "metadata": {},
   "outputs": [],
   "source": []
  }
 ]
}