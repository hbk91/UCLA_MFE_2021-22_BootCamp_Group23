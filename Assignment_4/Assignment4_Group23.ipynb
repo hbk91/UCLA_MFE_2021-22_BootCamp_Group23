{
 "metadata": {
  "language_info": {
   "codemirror_mode": {
    "name": "ipython",
    "version": 3
   },
   "file_extension": ".py",
   "mimetype": "text/x-python",
   "name": "python",
   "nbconvert_exporter": "python",
   "pygments_lexer": "ipython3",
   "version": "3.8.8"
  },
  "orig_nbformat": 4,
  "kernelspec": {
   "name": "python3",
   "display_name": "Python 3.8.8 64-bit (conda)"
  },
  "interpreter": {
   "hash": "b3ba2566441a7c06988d0923437866b63cedc61552a5af99d1f4fb67d367b25f"
  }
 },
 "nbformat": 4,
 "nbformat_minor": 2,
 "cells": [
  {
   "source": [
    "<h2><p style=\"text-align:center;\"> Assignment - Module 4 </p></h2>\n",
    "<h3><p style=\"text-align:center;\"> 31 July 2021 </p></h3>\n",
    "<h3><p style=\"text-align:center;\"> Group 23: Aman Jindal | Yuhang Jiang | Daniel Gabriel Tan | Qining Liu </p></h3>\n",
    "<br>"
   ],
   "cell_type": "markdown",
   "metadata": {}
  },
  {
   "source": [
    "#### Q1.There are 10 people. What are the number of ways in which you can split them into a team of 6 and a team of 4? Additionally, what are the number of ways in which you can split them into two teams of 5 each?"
   ],
   "cell_type": "markdown",
   "metadata": {}
  },
  {
   "source": [
    "#### Answer 1:\n",
    "\n",
    "- Number of ways to split the 10 people in teams of 6 and 4 are:\n",
    "    \n",
    "$$^{10}C_6\\,=\\,^{10}C_4$$\n",
    "\n",
    "- Number of ways to split the 10 people in teams of 5 and 5 are:\n",
    "  \n",
    "$$\\frac{^{10}C_5}{2}$$\n",
    "  \n",
    "This is because the two groups are identical in number. Thus, division by 2."
   ],
   "cell_type": "markdown",
   "metadata": {}
  },
  {
   "source": [
    "<hr style=\"height:1.5px;color:black;background-color:black\">"
   ],
   "cell_type": "markdown",
   "metadata": {}
  },
  {
   "cell_type": "code",
   "execution_count": 1,
   "metadata": {},
   "outputs": [
    {
     "output_type": "execute_result",
     "data": {
      "text/plain": [
       "2"
      ]
     },
     "metadata": {},
     "execution_count": 1
    }
   ],
   "source": [
    "1+1"
   ]
  },
  {
   "cell_type": "code",
   "execution_count": null,
   "metadata": {},
   "outputs": [],
   "source": []
  }
 ]
}