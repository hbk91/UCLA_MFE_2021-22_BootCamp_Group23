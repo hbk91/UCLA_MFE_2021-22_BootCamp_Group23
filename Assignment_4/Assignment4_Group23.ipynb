{
 "metadata": {
  "language_info": {
   "codemirror_mode": {
    "name": "ipython",
    "version": 3
   },
   "file_extension": ".py",
   "mimetype": "text/x-python",
   "name": "python",
   "nbconvert_exporter": "python",
   "pygments_lexer": "ipython3",
   "version": "3.8.8"
  },
  "orig_nbformat": 4,
  "kernelspec": {
   "name": "python3",
   "display_name": "Python 3.8.8 64-bit (conda)"
  },
  "interpreter": {
   "hash": "b3ba2566441a7c06988d0923437866b63cedc61552a5af99d1f4fb67d367b25f"
  }
 },
 "nbformat": 4,
 "nbformat_minor": 2,
 "cells": [
  {
   "source": [
    "<h2><p style=\"text-align:center;\"> Assignment - Module 4 </p></h2>\n",
    "<h3><p style=\"text-align:center;\"> 01 August 2021 </p></h3>\n",
    "<h3><p style=\"text-align:center;\"> Group 23: Aman Jindal | Yuhang Jiang | Daniel Gabriel Tan | Qining Liu </p></h3>\n",
    "<br>"
   ],
   "cell_type": "markdown",
   "metadata": {}
  },
  {
   "source": [
    "#### Q1.There are 10 people. What are the number of ways in which you can split them into a team of 6 and a team of 4? Additionally, what are the number of ways in which you can split them into two teams of 5 each?<br>"
   ],
   "cell_type": "markdown",
   "metadata": {}
  },
  {
   "source": [
    "#### Answer 1:\n",
    "\n",
    "- Number of ways to split the 10 people in teams of 6 and 4 are:\n",
    "    \n",
    "$$^{10}C_6\\,=\\,^{10}C_4 = 210$$\n",
    "\n",
    "- Number of ways to split the 10 people in teams of 5 and 5 are:\n",
    "  \n",
    "$$\\frac{^{10}C_5}{2} = 126$$\n",
    "  \n",
    "This is because the two groups have identical count of people. Hence, the division by two."
   ],
   "cell_type": "markdown",
   "metadata": {}
  },
  {
   "source": [
    "---"
   ],
   "cell_type": "markdown",
   "metadata": {}
  },
  {
   "source": [
    "#### Q2.  Prove $P(A \\cup B) = P(A) + P(B) - P(A \\cap B)$. Hint: The goal is to prove this mathematically (not using Venn diagrams). Try writing $A \\cup B$ as union of three disjoint sets and then apply axiom 3 that we discussed in class.<br>"
   ],
   "cell_type": "markdown",
   "metadata": {}
  },
  {
   "source": [
    "#### Answer 2:\n",
    "\n",
    "- The third axiom of probability states that, For every finite sequence of n disjoint events $A_1,.....,A_n$, the probability of the union of the events is equal to the summation of their individual properties\n",
    "\n",
    "- The union of two events, $A\\cup B$, can be partitioned into three disjoint sets:\n",
    "\n",
    "    - Elements of $A$ that are not in $B$\n",
    "    - Elements of $B$ that are not in $A$\n",
    "    - Elements that are both in $A$ and $B$\n",
    "\n",
    "- Thus, $$P(A\\cup B) = P(AB^c) + P(A^cB) + P(AB) \\qquad (1)$$\n",
    "  \n",
    "- Also because $AB^c$ and $AB$ are disjoint, thus,  $$P(A) = P(AB^c) + P(AB) \\qquad (2)$$\n",
    "\n",
    "- Similarly, $$P(B) = P(BA^c) + P(AB) \\qquad (3)$$\n",
    "\n",
    " - Adding $(2)$ & $(3)$, we get\n",
    "\n",
    "$$P(A) + P(B) = P(AB^c) + P(A^cB) +2*P(AB) \\qquad(4)$$\n",
    "<br>\n",
    "\n",
    "- Comparing $(1)$ and $(4)$, we get $$P(A \\cup B) = P(A) + P(B) - P(A \\cap B) \\qquad (5)$$\n",
    "\n",
    "Q.E.D."
   ],
   "cell_type": "markdown",
   "metadata": {}
  },
  {
   "source": [
    "---"
   ],
   "cell_type": "markdown",
   "metadata": {}
  },
  {
   "source": [
    "#### Q3. Two people take turns trying to sink a basketball into a net. Person 1 succeeds with probability 1/3 and person 2 succeeds with probability 1/4. What is the probability that person 2 succeeds before person 1. Additionally, compute the probability that person 1 succeeds before person 2.<br>"
   ],
   "cell_type": "markdown",
   "metadata": {}
  },
  {
   "source": [
    "#### Answer 3:\n",
    "\n",
    "- Let the probability of Person 1 succeeding, should the Person 1 go first, be denoted by `x`. <br>\n",
    "- Let the probability of Person 2 succeeding, should the Person 2 go first, be denoted by `y`. <br>\n",
    "\n",
    "Thus,\n",
    "\n",
    "$$x = \\frac{1}{3} + \\frac{2}{3}(1-y) \\qquad (1)$$\n",
    "$$y = \\frac{1}{4} + \\frac{3}{4}(1-x) \\qquad (2)$$\n",
    "\n",
    "- Thus for each person the probability of winning is the sum of the following two components viz.\n",
    "    - Component A: Probability of the person winning on the first turn. For instance, $\\frac{1}{3}$ in case of Person 1.\n",
    "    - Component B: It is the product of the following two probabilities:\n",
    "      -  Probability of the person losing on the first turn. For instance, $\\frac{2}{3}$ in case of Person 1.\n",
    "      -  Probability of the person winning if he had started second which is equal to 1 - the probability of the other person winning if the other person took the turn first. For instance, $1-y$ in case of Person 1.\n",
    "\n",
    "- Thus, on solving $(1)$ and $(2)$ above, we get $x = \\frac{2}{3}$ and $y = \\frac{1}{2}$ \n",
    "\n",
    "**Thus, Probability of Person 2 succeeding first is $\\frac{1}{2}$.<br>\n",
    "Probability of Person 1 succeeding first is $\\frac{2}{3}$.**"
   ],
   "cell_type": "markdown",
   "metadata": {}
  },
  {
   "source": [
    "---"
   ],
   "cell_type": "markdown",
   "metadata": {}
  },
  {
   "source": [
    "#### Q4. Suppose we toss a fair coin until we get exactly two heads. Describe the sample space S. What is the probability that exactly k tosses are required?<br>"
   ],
   "cell_type": "markdown",
   "metadata": {}
  },
  {
   "source": [
    "#### Answer 4: \n",
    "\n",
    "$$S = \\{X_1, X_2, X_3, ...., X_n\\}$$\n",
    "Where,\n",
    "\n",
    "  - $n \\ge 2$\n",
    "  - $X_n = \\text{head}$\n",
    "  - $X_n = \\text{head for exactly one h from the set}\\{1,2,3,....n-1\\}$\n",
    "  - $X_t = \\text{tail for all, except one from the set}\\{1,2,3,....n-1\\}$<br>\n",
    "\n",
    "Probability that exactly k tosses are required is the product of the following:\n",
    "\n",
    "- Probability of head on the final $k^{th}$ toss\n",
    "- Probability of one head and rest all tails in $k-1$ tosses and the all possible combinations of such occurrences.\n",
    "\n",
    "$$P =\\,^{k-1}C_{k-2}*{\\left(\\frac{1}{2}\\right)}^{k-2}*\\frac{1}{2}*\\frac{1}{2}$$\n",
    "$$\\implies P = \\frac{k-1}{2^k}$$"
   ],
   "cell_type": "markdown",
   "metadata": {}
  },
  {
   "source": [
    "---"
   ],
   "cell_type": "markdown",
   "metadata": {}
  },
  {
   "source": [
    "#### Q5. Birth Month Problem - This is a variation of the birthday problem. How many people are needed in a room to make it possible that atleast two people have the same birth month with a probability of 50%. There are 12 months in a year and probability of being born in any month is the same. Hint: Try expressing the probability of atleast 2 people having the same birth month as a complementary event.<br>"
   ],
   "cell_type": "markdown",
   "metadata": {}
  },
  {
   "source": [
    "- Event $A$: At least two people have the same birthday month\n",
    "- Event $\\bar{A}$: No two people have the same birthday month\n",
    "\n",
    "Thus, $$P(\\bar{A}) = \\frac{12}{12}*\\frac{11}{12}*\\text{.....}*\\frac{12-n+1}{12} \\qquad (1)$$\n",
    "\n",
    "- This is because the first person can have the birthday in any of the 12 months. The next person in rest of the 11 months and so on and so forth.\n",
    "\n",
    "Thus, $$P(\\bar{A}) = 1- \\frac{12}{12}*\\frac{11}{12}*\\text{.....}*\\frac{12-n+1}{12} \\qquad (2)$$\n",
    "\n",
    "Our answer would be the lowest value of n (number of people in the room) for which the probability in $(2)$ becomes greater than 0.5 <br>"
   ],
   "cell_type": "markdown",
   "metadata": {}
  },
  {
   "cell_type": "code",
   "execution_count": 1,
   "metadata": {},
   "outputs": [
    {
     "output_type": "stream",
     "name": "stdout",
     "text": [
      "Probability Table for at least two people having the same birthday month:\n\n{1: 0.0, 2: 0.0833, 3: 0.2361, 4: 0.4271, 5: 0.6181, 6: 0.7772}\n"
     ]
    }
   ],
   "source": [
    "# Calculating Probability of atleast two people sharing the same birthday for n = 1 to 7 \n",
    "from math import factorial\n",
    "from pprint import pprint\n",
    "from numpy import arange\n",
    "\n",
    "prob_dict = {x: (1- factorial(12)/factorial(12-x)/12**(x)).round(4) for x in arange(1,7)}\n",
    "print('Probability Table for at least two people having the same birthday month:\\n')\n",
    "pprint(prob_dict, sort_dicts=False)"
   ]
  },
  {
   "source": [
    "<br>\n",
    "From the above, we can see that for n = 5 the probability value crosses the threshold of 0.5. <br>\n",
    "\n",
    "Thus, there should be **atleast 5 people in the room** to make it possible that atleast two people have the same birth month with a probability of 50%"
   ],
   "cell_type": "markdown",
   "metadata": {}
  },
  {
   "source": [
    "---"
   ],
   "cell_type": "markdown",
   "metadata": {}
  },
  {
   "source": [
    "#### Q6. (optional) Birth Month Paradox Advanced Version - In the above question, we assumed that the probability of being born in any month is equal. Historically, month of August has seen the largest number of births compared to any other month. If we were to incorporate this new information, say probability of being born in August is p and probability of being born in any other month is q. What would be your approach to solving the above problem with this new information? Hint : The trick here would still be to write the probabilities in terms of its complementary event. Try enumerating possible combinations and compute the probability using the non-uniform distribution.<br>"
   ],
   "cell_type": "markdown",
   "metadata": {}
  },
  {
   "source": [
    "#### Answer 6:"
   ],
   "cell_type": "markdown",
   "metadata": {}
  }
 ]
}