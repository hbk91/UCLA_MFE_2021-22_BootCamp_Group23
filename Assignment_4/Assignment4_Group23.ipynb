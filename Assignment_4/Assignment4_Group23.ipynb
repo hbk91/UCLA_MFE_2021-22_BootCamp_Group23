{
 "metadata": {
  "language_info": {
   "codemirror_mode": {
    "name": "ipython",
    "version": 3
   },
   "file_extension": ".py",
   "mimetype": "text/x-python",
   "name": "python",
   "nbconvert_exporter": "python",
   "pygments_lexer": "ipython3",
   "version": "3.8.8"
  },
  "orig_nbformat": 4,
  "kernelspec": {
   "name": "python3",
   "display_name": "Python 3.8.8 64-bit (conda)"
  },
  "interpreter": {
   "hash": "b3ba2566441a7c06988d0923437866b63cedc61552a5af99d1f4fb67d367b25f"
  }
 },
 "nbformat": 4,
 "nbformat_minor": 2,
 "cells": [
  {
   "source": [
    "<h2><p style=\"text-align:center;\"> Assignment - Module 4 </p></h2>\n",
    "<h3><p style=\"text-align:center;\"> 01 August 2021 </p></h3>\n",
    "<h3><p style=\"text-align:center;\"> Group 23: Aman Jindal | Yuhang Jiang | Daniel Gabriel Tan | Qining Liu </p></h3>\n",
    "<br>"
   ],
   "cell_type": "markdown",
   "metadata": {}
  },
  {
   "source": [
    "#### Q1.There are 10 people. What are the number of ways in which you can split them into a team of 6 and a team of 4? Additionally, what are the number of ways in which you can split them into two teams of 5 each?<br>"
   ],
   "cell_type": "markdown",
   "metadata": {}
  },
  {
   "source": [
    "#### Answer 1:\n",
    "\n",
    "- Number of ways to split the 10 people in teams of 6 and 4 are:\n",
    "    \n",
    "$$^{10}C_6\\,=\\,^{10}C_4$$\n",
    "\n",
    "- Number of ways to split the 10 people in teams of 5 and 5 are:\n",
    "  \n",
    "$$\\frac{^{10}C_5}{2}$$\n",
    "  \n",
    "This is because the two groups have identical count of people. Hence, the division by two."
   ],
   "cell_type": "markdown",
   "metadata": {}
  },
  {
   "source": [
    "<hr style=\"height:1.5px;color:black;background-color:black\"><br>"
   ],
   "cell_type": "markdown",
   "metadata": {}
  },
  {
   "source": [
    "#### Q2.  Prove $P(A \\cup B) = P(A) + P(B) - P(A \\cap B)$. Hint: The goal is to prove this mathematically (not using Venn diagrams). Try writing $A \\cup B$ as union of three disjoint sets and then apply axiom 3 that we discussed in class."
   ],
   "cell_type": "markdown",
   "metadata": {}
  },
  {
   "source": [
    "#### Answer 2:\n",
    "\n",
    "- Partitioning a Set: For any two sets $A$ and $B$, $B$ and $A \\cap B^c$ are disjoint. Thus,\n",
    "  \n",
    "$$A \\cup B = B \\cup (A \\cap B^c) \\qquad (1)$$\n",
    "\n",
    "- For every finite sequence of n disjoint events $A_1,.....,A_n$, the probability of the union of the events is equal to the summation of their individual properties. Thus,\n",
    "\n",
    "$$Pr(A \\cup B) = Pr(B) \\cup Pr(A \\cap B^c) \\qquad (2)$$\n",
    "\n",
    "- For any two events A and B, the events $A \\cap B^c$ and $A \\cap B$ are disjoint. Thus,\n",
    "\n",
    "$$A = (A \\cap B) \\cup (A \\cap B^c) \\qquad (3)$$\n",
    "\n",
    "$$\\implies Pr(A) = Pr(A \\cap B) + Pr(A \\cap B^c) \\qquad (4)$$\n",
    "\n",
    "$$\\implies Pr(A \\cap B^c) = Pr(A) - Pr(A \\cap B) \\qquad (5)$$\n",
    "\n",
    "- Hence, from (1) and (5), we get,\n",
    "\n",
    "$$Pr(A \\cup B) = Pr(A) + Pr(B) - Pr(A \\cap B) \\qquad (6)$$\n",
    "\n",
    "Q.E.D."
   ],
   "cell_type": "markdown",
   "metadata": {}
  },
  {
   "source": [
    "<hr style=\"height:1.5px;color:black;background-color:black\"><br>"
   ],
   "cell_type": "markdown",
   "metadata": {}
  },
  {
   "source": [
    "#### Q3. Two people take turns trying to sink a basketball into a net. Person 1 succeeds with probability 1/3 and person 2 succeeds with probability 1/4. What is the probability that person 2 succeeds before person 1. Additionally, compute the probability that person 1 succeeds before person 2.\n",
    "\n",
    "#### Answer 3:"
   ],
   "cell_type": "markdown",
   "metadata": {}
  },
  {
   "source": [
    "- Let the probability of Person 1 succeeding, should the Person 1 go first, be denoted by `x`. <br>\n",
    "- Let the probability of Person 2 succeeding, should the Person 2 go first, be denoted by `y`. <br>\n",
    "\n",
    "Thus,\n",
    "\n",
    "$$x = \\frac{1}{3} + \\frac{2}{3}(1-y) \\qquad (1)$$\n",
    "$$y = \\frac{1}{4} + \\frac{3}{4}(1-x) \\qquad (2)$$\n",
    "\n",
    "- Thus for each person the probability of winning is the sum of the following two components viz.\n",
    "    - Component A: Probability of the person winning on the first turn. For instance, $\\frac{1}{3}$ in case of Person 1.\n",
    "    - Component B: It is the product of the following two probabilities:\n",
    "      -  Probability of the person losing on the first turn. For instance, $\\frac{2}{3}$ in case of Person 1.\n",
    "      -  Probability of the person winning if he had started second which is equal to 1 - the probability of the other person winning if the other person took the turn first. For instance, $1-y$ in case of Person 1.\n",
    "\n",
    "- Thus, on solving $(1)$ and $(2)$ above, we get $x = \\frac{2}{3}$ and $y = \\frac{1}{2}$ \n",
    "\n",
    "**Thus, Probability of Person 2 succeeding first is $\\frac{1}{2}$.<br>\n",
    "Probability of Person 1 succeeding first is $\\frac{2}{3}$.**"
   ],
   "cell_type": "markdown",
   "metadata": {}
  },
  {
   "cell_type": "code",
   "execution_count": null,
   "metadata": {},
   "outputs": [],
   "source": []
  }
 ]
}