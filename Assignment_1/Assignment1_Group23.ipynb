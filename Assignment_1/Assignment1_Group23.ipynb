{
 "metadata": {
  "language_info": {
   "codemirror_mode": {
    "name": "ipython",
    "version": 3
   },
   "file_extension": ".py",
   "mimetype": "text/x-python",
   "name": "python",
   "nbconvert_exporter": "python",
   "pygments_lexer": "ipython3",
   "version": "3.8.8"
  },
  "orig_nbformat": 4,
  "kernelspec": {
   "name": "python3",
   "display_name": "Python 3.8.8 64-bit (conda)"
  },
  "interpreter": {
   "hash": "b3ba2566441a7c06988d0923437866b63cedc61552a5af99d1f4fb67d367b25f"
  }
 },
 "nbformat": 4,
 "nbformat_minor": 2,
 "cells": [
  {
   "source": [
    "<h2><p align=center> Assignment - Module 1 </p></h2>\n",
    "<h3><p align=center> 25 July 2021 </p></h3>\n",
    "<h3><p align=center> Group 23: Aman Jindal | Yuhang Jiang | Daniel Gabriel Tan | Qining Liu </p></h3>\n",
    "<br /><br />"
   ],
   "cell_type": "markdown",
   "metadata": {}
  },
  {
   "source": [
    "#### Q1. Create a list([3,4,5,7,8]) and store it in variable \"my_list\". The list contains 5 elements. Write a program to interchange the first and second elements with the last and second last elements respectively. The new list will be [8,7,5,4,3]. "
   ],
   "cell_type": "markdown",
   "metadata": {}
  },
  {
   "source": [
    "#### Answer 1:"
   ],
   "cell_type": "markdown",
   "metadata": {}
  },
  {
   "cell_type": "code",
   "execution_count": 1,
   "metadata": {},
   "outputs": [
    {
     "output_type": "stream",
     "name": "stdout",
     "text": [
      "The Swapped List: [8, 7, 5, 4, 3]\n"
     ]
    }
   ],
   "source": [
    "my_list = [3,4,5,7,8]\n",
    "\n",
    "def swap_list_elements(list, pos1, pos2):\n",
    "    list[pos1], list[pos2] = list[pos2], list[pos1]\n",
    "    return list\n",
    "\n",
    "swap_list_elements(my_list, 0, len(my_list) - 1)\n",
    "swap_list_elements(my_list, 1, len(my_list) - 2)\n",
    "\n",
    "print('The Swapped List: {}'.format(repr(my_list)))"
   ]
  },
  {
   "source": [
    "<hr style=\"border:.05px solid black\">\n",
    "<br />"
   ],
   "cell_type": "markdown",
   "metadata": {}
  },
  {
   "source": [
    "#### Q2. Create a dictionary with five stocks (any five stocks from S&P 500). The keys of the dictionary that you will have to populate are - Name, Company Sector, Price, Market Cap (USD Mn), and Price-Earnings Ratio. You should find such data on Yahoo Finance. The keys have to be strings. For example (https://finance.yahoo.com/quote/TSLA/)."
   ],
   "cell_type": "markdown",
   "metadata": {}
  },
  {
   "source": [
    "#### Answer 2:"
   ],
   "cell_type": "markdown",
   "metadata": {}
  },
  {
   "cell_type": "code",
   "execution_count": 2,
   "metadata": {},
   "outputs": [],
   "source": [
    "# Importing Required Libraries\n",
    "\n",
    "import yfinance as yf\n",
    "from pprint import pprint"
   ]
  },
  {
   "cell_type": "code",
   "execution_count": 3,
   "metadata": {},
   "outputs": [],
   "source": [
    "# List of Stocks for which we will collect data\n",
    "tickers_list = ['MSFT', 'HD', 'LOW', 'ADBE', 'DUK'] \n",
    "\n",
    "# Collating Keys in Yahoo Finance Data Corresponding to our requirements\n",
    "stock_info_reqd = {'Name':'longName',\n",
    "                    'Company_Sector':'sector', \n",
    "                    'Price (USD)':'currentPrice', \n",
    "                    'Market_Cap(USD_Million)':'marketCap', \n",
    "                    'PE_Ratio':'trailingPE'}\n",
    "\n",
    "# Keys for which value needs to be converted into million\n",
    "million_conv_keys = ['Market_Cap(USD_Million)']\n"
   ]
  },
  {
   "cell_type": "code",
   "execution_count": 4,
   "metadata": {},
   "outputs": [],
   "source": [
    "# Company Class for fetching the requisite data\n",
    "\n",
    "class Company:\n",
    "\n",
    "    def __init__(self, ticker, stock_info_reqd, million_conv_keys):        \n",
    "        \n",
    "        self.ticker = ticker\n",
    "        self.internal_fetch_stock_info(ticker, stock_info_reqd, million_conv_keys)\n",
    "\n",
    "    def __repr__(self):\n",
    "        return self.ticker\n",
    "    \n",
    "    def internal_fetch_stock_info(self, ticker, stock_info_reqd, million_conv_keys):\n",
    "        \n",
    "        self.stock_info_dict = dict(zip(stock_info_reqd.keys(),\n",
    "                                        list(map(yf.Ticker(ticker).info.get, \n",
    "                                                 stock_info_reqd.values()))))\n",
    "        \n",
    "        for key in million_conv_keys:\n",
    "            self.stock_info_dict[key] = self.stock_info_dict[key]/10**6\n",
    "    \n",
    "    def external_fetch_stock_info(self):\n",
    "        return self.stock_info_dict\n",
    "\n",
    "    def stock_info_keys(self):\n",
    "        return self.stock_info_dict.keys()"
   ]
  },
  {
   "cell_type": "code",
   "execution_count": 5,
   "metadata": {},
   "outputs": [],
   "source": [
    "# Creating Dictionary for the 5 stocks\n",
    "\n",
    "companies_info_final = {ticker :  \n",
    "                        Company(ticker = ticker, \n",
    "                        stock_info_reqd = stock_info_reqd, \n",
    "                        million_conv_keys = million_conv_keys).external_fetch_stock_info()\n",
    "                        for ticker in tickers_list}"
   ]
  },
  {
   "cell_type": "code",
   "execution_count": 6,
   "metadata": {},
   "outputs": [
    {
     "output_type": "stream",
     "name": "stdout",
     "text": [
      "\u001b[1m\t\t\u001b[4mDictionary of Companies\u001b[0m\u001b[0m\n\n\n{'MSFT': {'Name': 'Microsoft Corporation',\n          'Company_Sector': 'Technology',\n          'Price (USD)': 289.13,\n          'Market_Cap(USD_Million)': 2177602.945024,\n          'PE_Ratio': 39.401745},\n 'HD': {'Name': 'The Home Depot, Inc.',\n        'Company_Sector': 'Consumer Cyclical',\n        'Price (USD)': 329.875,\n        'Market_Cap(USD_Million)': 350742.904832,\n        'PE_Ratio': 24.046871},\n 'LOW': {'Name': \"Lowe's Companies, Inc.\",\n         'Company_Sector': 'Consumer Cyclical',\n         'Price (USD)': 197.15,\n         'Market_Cap(USD_Million)': 139363.352576,\n         'PE_Ratio': 21.504143},\n 'ADBE': {'Name': 'Adobe Inc.',\n          'Company_Sector': 'Technology',\n          'Price (USD)': 623.28,\n          'Market_Cap(USD_Million)': 296930.607104,\n          'PE_Ratio': 54.015083},\n 'DUK': {'Name': 'Duke Energy Corporation',\n         'Company_Sector': 'Utilities',\n         'Price (USD)': 104.63,\n         'Market_Cap(USD_Million)': 80483.385344,\n         'PE_Ratio': 59.246883}}\n"
     ]
    }
   ],
   "source": [
    "# Printing the Result\n",
    "\n",
    "print('\\033[1m\\t\\t\\033[4mDictionary of Companies\\033[0m\\033[0m\\n\\n')\n",
    "pprint(companies_info_final, sort_dicts = False)"
   ]
  },
  {
   "source": [
    "<hr style=\"border:.05px solid black\">\n",
    "<br />"
   ],
   "cell_type": "markdown",
   "metadata": {}
  },
  {
   "source": [
    "#### Q3. Using NumPy's arange and linspace, generate the same arrays between [0,10] and the array has size of 101 elements. Check if all the elements match."
   ],
   "cell_type": "markdown",
   "metadata": {}
  },
  {
   "source": [
    "#### Answer 3:"
   ],
   "cell_type": "markdown",
   "metadata": {}
  },
  {
   "cell_type": "code",
   "execution_count": 7,
   "metadata": {},
   "outputs": [],
   "source": [
    "# Importing Required Libraries\n",
    "\n",
    "import numpy as np\n",
    "np.set_printoptions(precision = 4) # To Print Values till 4 decimal places"
   ]
  },
  {
   "cell_type": "code",
   "execution_count": 8,
   "metadata": {},
   "outputs": [
    {
     "output_type": "stream",
     "name": "stdout",
     "text": [
      "Linspace Array: \n\n array([0.    , 0.099 , 0.198 , 0.297 , 0.396 , 0.495 , 0.5941, 0.6931,\n       0.7921, 0.8911, 0.9901, 1.0891, 1.1881, 1.2871, 1.3861, 1.4851,\n       1.5842, 1.6832, 1.7822, 1.8812, 1.9802, 2.0792, 2.1782, 2.2772,\n       2.3762, 2.4752, 2.5743, 2.6733, 2.7723, 2.8713, 2.9703, 3.0693,\n       3.1683, 3.2673, 3.3663, 3.4653, 3.5644, 3.6634, 3.7624, 3.8614,\n       3.9604, 4.0594, 4.1584, 4.2574, 4.3564, 4.4554, 4.5545, 4.6535,\n       4.7525, 4.8515, 4.9505, 5.0495, 5.1485, 5.2475, 5.3465, 5.4455,\n       5.5446, 5.6436, 5.7426, 5.8416, 5.9406, 6.0396, 6.1386, 6.2376,\n       6.3366, 6.4356, 6.5347, 6.6337, 6.7327, 6.8317, 6.9307, 7.0297,\n       7.1287, 7.2277, 7.3267, 7.4257, 7.5248, 7.6238, 7.7228, 7.8218,\n       7.9208, 8.0198, 8.1188, 8.2178, 8.3168, 8.4158, 8.5149, 8.6139,\n       8.7129, 8.8119, 8.9109, 9.0099, 9.1089, 9.2079, 9.3069, 9.4059,\n       9.505 , 9.604 , 9.703 , 9.802 , 9.901 ])\n"
     ]
    }
   ],
   "source": [
    "# Creating & Printing Linspace Array\n",
    "\n",
    "start = 0\n",
    "stop = 10\n",
    "array_size = 101\n",
    "\n",
    "array_linspace = np.linspace(start = start, stop = stop,\n",
    "                            num = array_size, endpoint = False, dtype = float)\n",
    "\n",
    "print('Linspace Array: \\n\\n {}'.format(repr(array_linspace)))"
   ]
  },
  {
   "cell_type": "code",
   "execution_count": 9,
   "metadata": {},
   "outputs": [
    {
     "output_type": "stream",
     "name": "stdout",
     "text": [
      "Arange Array: \n\n array([0.    , 0.099 , 0.198 , 0.297 , 0.396 , 0.495 , 0.5941, 0.6931,\n       0.7921, 0.8911, 0.9901, 1.0891, 1.1881, 1.2871, 1.3861, 1.4851,\n       1.5842, 1.6832, 1.7822, 1.8812, 1.9802, 2.0792, 2.1782, 2.2772,\n       2.3762, 2.4752, 2.5743, 2.6733, 2.7723, 2.8713, 2.9703, 3.0693,\n       3.1683, 3.2673, 3.3663, 3.4653, 3.5644, 3.6634, 3.7624, 3.8614,\n       3.9604, 4.0594, 4.1584, 4.2574, 4.3564, 4.4554, 4.5545, 4.6535,\n       4.7525, 4.8515, 4.9505, 5.0495, 5.1485, 5.2475, 5.3465, 5.4455,\n       5.5446, 5.6436, 5.7426, 5.8416, 5.9406, 6.0396, 6.1386, 6.2376,\n       6.3366, 6.4356, 6.5347, 6.6337, 6.7327, 6.8317, 6.9307, 7.0297,\n       7.1287, 7.2277, 7.3267, 7.4257, 7.5248, 7.6238, 7.7228, 7.8218,\n       7.9208, 8.0198, 8.1188, 8.2178, 8.3168, 8.4158, 8.5149, 8.6139,\n       8.7129, 8.8119, 8.9109, 9.0099, 9.1089, 9.2079, 9.3069, 9.4059,\n       9.505 , 9.604 , 9.703 , 9.802 , 9.901 ])\n"
     ]
    }
   ],
   "source": [
    "# Creating & Printing Arange Array\n",
    "\n",
    "start = 0\n",
    "stop = 10\n",
    "array_size = 101\n",
    "step_size = (stop - start)/array_size\n",
    "\n",
    "array_arange = np.arange(start = start, stop = stop, step = step_size, dtype = float)\n",
    "\n",
    "print('Arange Array: \\n\\n {}'.format(repr(array_arange)))"
   ]
  },
  {
   "cell_type": "code",
   "execution_count": 10,
   "metadata": {},
   "outputs": [
    {
     "output_type": "stream",
     "name": "stdout",
     "text": [
      "Check if the Arrays are Equal: \n\n True\n"
     ]
    }
   ],
   "source": [
    "# Validating if the Linspace & Arange Arrays are Equal\n",
    "\n",
    "print('Check if the Arrays are Equal: \\n\\n {}'.format((array_linspace == array_arange).all()))"
   ]
  },
  {
   "source": [
    "<hr style=\"border:.05px solid black\">\n",
    "<br />"
   ],
   "cell_type": "markdown",
   "metadata": {}
  },
  {
   "source": [
    "#### Q4. Generate 50 random numbers from [0,1) using np.random.rand function and calculate the mean, median, and variance."
   ],
   "cell_type": "markdown",
   "metadata": {}
  },
  {
   "source": [
    "#### Answer 4:"
   ],
   "cell_type": "markdown",
   "metadata": {}
  },
  {
   "cell_type": "code",
   "execution_count": 11,
   "metadata": {},
   "outputs": [
    {
     "output_type": "stream",
     "name": "stdout",
     "text": [
      "Random Uniform Array: \n\n array([0.201 , 0.329 , 0.2965, 0.0933, 0.3331, 0.7252, 0.6524, 0.5049,\n       0.9473, 0.6274, 0.9923, 0.0761, 0.3426, 0.3069, 0.7102, 0.9173,\n       0.0809, 0.0628, 0.5822, 0.6692, 0.0093, 0.4219, 0.3954, 0.0732,\n       0.7703, 0.1894, 0.468 , 0.6517, 0.0082, 0.068 , 0.7469, 0.1575,\n       0.5348, 0.6763, 0.5196, 0.5194, 0.4658, 0.2446, 0.9115, 0.1077,\n       0.4818, 0.7487, 0.385 , 0.7519, 0.7596, 0.2879, 0.6734, 0.1756,\n       0.672 , 0.2965])\n\nArray Dimensions: (50,)\n"
     ]
    }
   ],
   "source": [
    "# Generating & Printing Uniform [0,1) random array\n",
    "\n",
    "array_size = 50\n",
    "np.random.seed(91) # Setting Seed as 91\n",
    "\n",
    "arr_uniform_rand = np.random.rand(array_size)\n",
    "print('Random Uniform Array: \\n\\n {}'.format(repr(arr_uniform_rand)))\n",
    "print('\\nArray Dimensions: {}'.format(arr_uniform_rand.shape))"
   ]
  },
  {
   "cell_type": "code",
   "execution_count": 12,
   "metadata": {},
   "outputs": [
    {
     "output_type": "stream",
     "name": "stdout",
     "text": [
      "Mean of the Array: 0.4525\nMedian of the Array: 0.4669\nVariance of the Array: 0.0751\n"
     ]
    }
   ],
   "source": [
    "# Calculating & Printing Mean, Median & Variance\n",
    "\n",
    "arr_uniform_rand_mean = np.mean(a = arr_uniform_rand, axis = None)\n",
    "arr_uniform_rand_median = np.median(a = arr_uniform_rand, axis = None)\n",
    "arr_uniform_rand_var = np.var(a = arr_uniform_rand, ddof = 0, axis = None)\n",
    "\n",
    "print('Mean of the Array: {:.4f}'.format(arr_uniform_rand_mean))\n",
    "print('Median of the Array: {:.4f}'.format(arr_uniform_rand_median))\n",
    "print('Variance of the Array: {:.4f}'.format(arr_uniform_rand_var))"
   ]
  },
  {
   "source": [
    "<hr style=\"border:.05px solid black\">\n",
    "<br />"
   ],
   "cell_type": "markdown",
   "metadata": {}
  },
  {
   "source": [
    "#### Q5.  Now reshape the above array into a 10x5 matrix (10 rows and 5 columns). calculate the same statistics for each column."
   ],
   "cell_type": "markdown",
   "metadata": {}
  },
  {
   "source": [
    "#### Answer 5:"
   ],
   "cell_type": "markdown",
   "metadata": {}
  },
  {
   "cell_type": "code",
   "execution_count": 13,
   "metadata": {},
   "outputs": [
    {
     "output_type": "stream",
     "name": "stdout",
     "text": [
      "Reshaped Array: \n\n array([[0.201 , 0.329 , 0.2965, 0.0933, 0.3331],\n       [0.7252, 0.6524, 0.5049, 0.9473, 0.6274],\n       [0.9923, 0.0761, 0.3426, 0.3069, 0.7102],\n       [0.9173, 0.0809, 0.0628, 0.5822, 0.6692],\n       [0.0093, 0.4219, 0.3954, 0.0732, 0.7703],\n       [0.1894, 0.468 , 0.6517, 0.0082, 0.068 ],\n       [0.7469, 0.1575, 0.5348, 0.6763, 0.5196],\n       [0.5194, 0.4658, 0.2446, 0.9115, 0.1077],\n       [0.4818, 0.7487, 0.385 , 0.7519, 0.7596],\n       [0.2879, 0.6734, 0.1756, 0.672 , 0.2965]])\n\n Array Dimensions: (10, 5)\n"
     ]
    }
   ],
   "source": [
    "# Reshaping the Array to (10,5)\n",
    "\n",
    "newshape = (10,5)\n",
    "\n",
    "arr_uniform_rand_reshaped = np.reshape(a = arr_uniform_rand, newshape = newshape, order = 'C')\n",
    "print('Reshaped Array: \\n\\n {}'.format(repr(arr_uniform_rand_reshaped)))\n",
    "print('\\n Array Dimensions: {}'.format(arr_uniform_rand_reshaped.shape)) "
   ]
  },
  {
   "cell_type": "code",
   "execution_count": 14,
   "metadata": {},
   "outputs": [
    {
     "output_type": "stream",
     "name": "stdout",
     "text": [
      "Means of the Array Column Wise: array([0.5071, 0.4074, 0.3594, 0.5023, 0.4862])\nMedians of the Array Column Wise: array([0.5006, 0.4438, 0.3638, 0.6271, 0.5735])\nVariances of the Array Column Wise: array([0.1   , 0.054 , 0.0278, 0.1127, 0.0638])\n"
     ]
    }
   ],
   "source": [
    "# Calculating & Printing Mean, Median & Variance Column Wise\n",
    "\n",
    "arr_uniform_rand_reshaped_mean = np.mean(a = arr_uniform_rand_reshaped, axis = 0)\n",
    "arr_uniform_rand_reshaped_median = np.median(a = arr_uniform_rand_reshaped, axis = 0)\n",
    "arr_uniform_rand_reshaped_var = np.var(a = arr_uniform_rand_reshaped, ddof = 0, axis = 0)\n",
    "\n",
    "print('Means of the Array Column Wise: {}'.format(repr(arr_uniform_rand_reshaped_mean)))\n",
    "print('Medians of the Array Column Wise: {}'.format(repr(arr_uniform_rand_reshaped_median)))\n",
    "print('Variances of the Array Column Wise: {}'.format(repr(arr_uniform_rand_reshaped_var)))"
   ]
  },
  {
   "source": [
    "<hr style=\"border:.05px solid black\">\n",
    "<br />"
   ],
   "cell_type": "markdown",
   "metadata": {}
  },
  {
   "source": [
    "#### Q6. Generate 50 random numbers from [0,1). Split this array into two equal arrays of size 25 each. Now reshape the two new arrays into 5x5 matrices and multiply both of them. Calculate the determinant of the new matrix (check wiki if you don't know what it means). Hint - you will find the determinant function part of the numpy linalg function (the linear algebra library)"
   ],
   "cell_type": "markdown",
   "metadata": {}
  },
  {
   "source": [
    "#### Answer 6:"
   ],
   "cell_type": "markdown",
   "metadata": {}
  },
  {
   "cell_type": "code",
   "execution_count": 15,
   "metadata": {},
   "outputs": [
    {
     "output_type": "stream",
     "name": "stdout",
     "text": [
      "Random Uniform Array: \n\n array([0.201 , 0.329 , 0.2965, 0.0933, 0.3331, 0.7252, 0.6524, 0.5049,\n       0.9473, 0.6274, 0.9923, 0.0761, 0.3426, 0.3069, 0.7102, 0.9173,\n       0.0809, 0.0628, 0.5822, 0.6692, 0.0093, 0.4219, 0.3954, 0.0732,\n       0.7703, 0.1894, 0.468 , 0.6517, 0.0082, 0.068 , 0.7469, 0.1575,\n       0.5348, 0.6763, 0.5196, 0.5194, 0.4658, 0.2446, 0.9115, 0.1077,\n       0.4818, 0.7487, 0.385 , 0.7519, 0.7596, 0.2879, 0.6734, 0.1756,\n       0.672 , 0.2965])\n\nArray Dimensions: (50,)\n"
     ]
    }
   ],
   "source": [
    "#  Generating & Printing Uniform [0,1) random array\n",
    "\n",
    "array_size = 50 # Enter a even number\n",
    "np.random.seed(91) # Setting Seed as 91\n",
    "\n",
    "arr_rand = np.random.rand(array_size)\n",
    "print('Random Uniform Array: \\n\\n {}'.format(repr(arr_rand)))\n",
    "print('\\nArray Dimensions: {}'.format(arr_rand.shape))"
   ]
  },
  {
   "cell_type": "code",
   "execution_count": 16,
   "metadata": {},
   "outputs": [
    {
     "output_type": "stream",
     "name": "stdout",
     "text": [
      "Indexes from Complete Array chosen for Array 1: \n\n [0, 3, 4, 5, 6, 7, 8, 9, 12, 13, 15, 16, 19, 21, 23, 25, 26, 27, 31, 32, 34, 35, 39, 44, 48]\n\n\n Array 1: \n\n array([[0.201 , 0.0933, 0.3331, 0.7252, 0.6524],\n       [0.5049, 0.9473, 0.6274, 0.3426, 0.3069],\n       [0.9173, 0.0809, 0.6692, 0.4219, 0.0732],\n       [0.1894, 0.468 , 0.6517, 0.1575, 0.5348],\n       [0.5196, 0.5194, 0.1077, 0.7596, 0.672 ]])\n\n\n Indexes from Complete Array chosen for Array 2: \n\n [1, 2, 10, 11, 14, 17, 18, 20, 22, 24, 28, 29, 30, 33, 36, 37, 38, 40, 41, 42, 43, 45, 46, 47, 49]\n\n\n Array 2: \n\n array([[0.329 , 0.2965, 0.9923, 0.0761, 0.7102],\n       [0.0628, 0.5822, 0.0093, 0.3954, 0.7703],\n       [0.0082, 0.068 , 0.7469, 0.6763, 0.4658],\n       [0.2446, 0.9115, 0.4818, 0.7487, 0.385 ],\n       [0.7519, 0.2879, 0.6734, 0.1756, 0.2965]])\n"
     ]
    }
   ],
   "source": [
    "# Splitting & rehaping the Array into two parts\n",
    "\n",
    "np.random.seed(91) # Setting Seed as 91\n",
    "split_size = int(array_size/2)\n",
    "newshape = (5,5)\n",
    "\n",
    "arr_rand_indexes = range(arr_rand.shape[0])\n",
    "indexes_arr1 = sorted(list(np.random.choice(a = arr_rand_indexes, size = split_size, \n",
    "                                            replace = False, p = None)))\n",
    "indexes_arr2 = sorted(list(set(arr_rand_indexes).difference(set(indexes_arr1))))\n",
    "\n",
    "arr_rand_part1 = arr_rand[indexes_arr1].reshape(newshape)\n",
    "arr_rand_part2 = arr_rand[indexes_arr2].reshape(newshape)\n",
    "\n",
    "print('Indexes from Complete Array chosen for Array 1: \\n\\n {}'.format(repr(indexes_arr1)))\n",
    "print('\\n\\n Array 1: \\n\\n {}'.format(repr(arr_rand_part1)))\n",
    "print('\\n\\n Indexes from Complete Array chosen for Array 2: \\n\\n {}'.format(repr(indexes_arr2)))\n",
    "print('\\n\\n Array 2: \\n\\n {}'.format(repr(arr_rand_part2)))"
   ]
  },
  {
   "cell_type": "code",
   "execution_count": 17,
   "metadata": {},
   "outputs": [
    {
     "output_type": "stream",
     "name": "stdout",
     "text": [
      "Matrix Multiplied Array: \n\n array([[0.7427, 0.9855, 1.2378, 0.935 , 0.8424],\n       [0.5454, 1.1445, 1.3502, 1.1477, 1.6034],\n       [0.4706, 0.7703, 1.6634, 0.8831, 1.2096],\n       [0.5377, 0.6704, 1.1151, 0.852 , 1.0178],\n       [0.8956, 1.3497, 1.4193, 1.0045, 1.3109]])\n"
     ]
    }
   ],
   "source": [
    "# Matrix Multiplication of the two Arrays & Printing the Results\n",
    "\n",
    "arr_multiplied = arr_rand_part1 @ arr_rand_part2\n",
    "print('Matrix Multiplied Array: \\n\\n {}'.format(repr(arr_multiplied)))"
   ]
  },
  {
   "cell_type": "code",
   "execution_count": 18,
   "metadata": {},
   "outputs": [
    {
     "output_type": "stream",
     "name": "stdout",
     "text": [
      "Determinant of the multiplied array: 0.02364653\n"
     ]
    }
   ],
   "source": [
    "# Calculating & Printing the Determinant of the multiplied Array\n",
    "\n",
    "arr_multiplied_det = np.linalg.det(arr_multiplied)\n",
    "\n",
    "print('Determinant of the multiplied array: {:.8f}'.format(arr_multiplied_det))"
   ]
  },
  {
   "source": [
    "<br /><br />"
   ],
   "cell_type": "markdown",
   "metadata": {}
  },
  {
   "source": [
    "<hr style=\"border:1px solid black\">"
   ],
   "cell_type": "markdown",
   "metadata": {}
  },
  {
   "source": [
    "<h2><p align=center>The End.</p></h2>"
   ],
   "cell_type": "markdown",
   "metadata": {}
  },
  {
   "source": [
    "<hr style=\"border:1px solid black\">"
   ],
   "cell_type": "markdown",
   "metadata": {}
  }
 ]
}