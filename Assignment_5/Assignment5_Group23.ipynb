{
 "metadata": {
  "language_info": {
   "codemirror_mode": {
    "name": "ipython",
    "version": 3
   },
   "file_extension": ".py",
   "mimetype": "text/x-python",
   "name": "python",
   "nbconvert_exporter": "python",
   "pygments_lexer": "ipython3",
   "version": "3.8.8"
  },
  "orig_nbformat": 4,
  "kernelspec": {
   "name": "python3",
   "display_name": "Python 3.8.8 64-bit ('ProgramData': virtualenv)"
  },
  "interpreter": {
   "hash": "b3ba2566441a7c06988d0923437866b63cedc61552a5af99d1f4fb67d367b25f"
  }
 },
 "nbformat": 4,
 "nbformat_minor": 2,
 "cells": [
  {
   "source": [
    "<h2><p style=\"text-align:center;\"> Assignment - Module 5 </p></h2>\n",
    "<h3><p style=\"text-align:center;\"> 04 August 2021 </p></h3>\n",
    "<h3><p style=\"text-align:center;\"> Group 23: Aman Jindal | Yuhang Jiang | Daniel Gabriel Tan | Qining Liu </p></h3>\n",
    "<br>"
   ],
   "cell_type": "markdown",
   "metadata": {}
  },
  {
   "source": [
    "#### **Q1.** Quant Interview: A quant driven hedge fund wants to interview all the UCLA MFE students for an internship. Say 50% of all students who received their first interview received a second interview. 95% of the people interviewed that got a second interview said they had a good first interview. 75% of the people interviewed that did not get a second interview said they had a good first interview. If you felt you had a good first interview, what is the probability that you will receive a second interview? Alternatively, if you felt you had a bad first interview, what is the probability that you will receive a second interview?  "
   ],
   "cell_type": "markdown",
   "metadata": {}
  },
  {
   "source": [
    "#### **Answer 1:**\n",
    "\n",
    "#### **Let:**\n",
    "- The probability of the first interview being felt good be denoted by $P(First_{FG})$\n",
    "- The probability of the first interview being felt bad be denoted by $P(First_{FB})$\n",
    "- The probability of receiving a second interview be denoted by $P(Y_{second})$\n",
    "- The probability of receiving a second interview be denoted by $P(N_{second})$\n",
    "\n",
    "**$P(Y_{second}|First_{FG})$ using Bayes' Theorem is:**\n",
    "\n",
    "$$P(Y_{second}|First_{FG}) = P(First_{FG}|Y_{second})*\\frac{P(Y_{second})}{P(First_{FG})}$$ <br>\n",
    "\n",
    "$$\\implies P(Y_{second}|First_{FG}) = 0.95*\\frac{0.5}{0.5*0.95+0.5*0.75}$$ <br>\n",
    "\n",
    "$$\\implies P(Y_{second}|First_{FG}) = 0.5588$$ <br>\n",
    "\n",
    "<br>\n",
    "\n",
    "**Similarly, $P(Y_{second}|First_{FB})$ is:**\n",
    "\n",
    "$$P(Y_{second}|First_{FB}) = P(First_{FB}|Y_{second})*\\frac{P(Y_{second})}{P(First_{FB})}$$ <br>\n",
    "\n",
    "$$\\implies P(Y_{second}|First_{FB}) = 0.05*\\frac{0.5}{0.5*0.05+0.5*0.25}$$ <br>\n",
    "\n",
    "$$\\implies P(Y_{second}|First_{FB}) = 0.1667$$ <br>"
   ],
   "cell_type": "markdown",
   "metadata": {}
  },
  {
   "source": [
    "---\n",
    "<br>"
   ],
   "cell_type": "markdown",
   "metadata": {}
  },
  {
   "source": [
    "#### **Q2.** Hypothesis Testing: There are two biased coins A and B in a bag. Probability of heads for coin A is 0.75 and the probability of heads for coin B is 0.3. You pick a coin randomly and perform 10 tosses (without knowing which coin you picked). Hint: To solve the two problems below, compute the posterior probability P(Hypothesis|Data) and argue that one of the coin has a higher posterior probability. You will have to test and compare the two hypothesis - picking coin A given data and picking coin B given data. Since we are choosing a coin randomly, P(picking coin A) = (picking coin B) = 1/2. Key takeaway is how the data changes your beliefs about which coin you picked.<br>\n",
    "\n",
    "#### **i.** You observe that you get 8 heads and 2 tails from your coin tosses. What is the probability that you picked coin A from the bag given the data. Compare this with the posterior probability of picking the other coin.<br>      \n",
    "#### **ii.** Now, say you observed 8 tails and 2 heads from your coin tosses. What is the probability that you picked coin B given the data. Compare this with the posterior probability of picking the other coin.<br>      "
   ],
   "cell_type": "markdown",
   "metadata": {}
  },
  {
   "source": [],
   "cell_type": "markdown",
   "metadata": {}
  },
  {
   "source": [
    "#### **Answer 2:**\n",
    "\n",
    "#### **Let:** \n",
    "- The probability for coin A be denoted by $P(A)$\n",
    "- The probability for coin B be denoted by $P(B)$\n",
    " \n",
    "#### **i. 8 heads & 2 tails:**\n",
    "\n",
    "#### **Let:** \n",
    "- The Probability of 8 heads and 2 tails be denoted by $P(8_H2_T)$ \n",
    "\n",
    "**$P(A|8_H2_T)$ using Bayes' Theorem is:** <br>\n",
    "\n",
    "$$P(A|8_H2_T) = P(8_H2_T|A)*\\frac{P(A)}{P(8_H2_T)}$$ <br>\n",
    "\n",
    "$$\\implies P(A|8_H2_T) =\\, ^{10}C_8(0.75)^8(0.25)^2*\\frac{0.5}{0.5*[^{10}C_8(0.75)^8(0.25)^2]+ 0.5*[^{10}C_8(0.3)^8(0.7)^2]}$$ <br>\n",
    "\n",
    "$$\\implies P(A|8_H2_T) = 0.9949$$ <br>\n",
    "\n",
    "**Similarly, $P(B|8_H2_T)$ is:** <br>\n",
    "\n",
    "$$P(B|8_H2_T) = P(8_H2_T|B)*\\frac{P(B)}{P(8_H2_T)}$$ <br>\n",
    "\n",
    "$$\\implies P(B|8_H2_T) =\\, ^{10}C_8(0.3)^8(0.7)^2*\\frac{0.5}{0.5*[^{10}C_8(0.75)^8(0.25)^2]+ 0.5*[^{10}C_8(0.3)^8(0.7)^2]}$$ <br>\n",
    "\n",
    "$$\\implies P(B|8_H2_T) = 0.0051$$ <br>\n",
    "\n",
    "**Thus, given the observed data, there is much higher probability that coin A was initially picked.**\n",
    "\n",
    "<br>\n",
    "\n",
    "#### **ii. 2 heads & 8 tails:**\n",
    "\n",
    "#### **Let:** \n",
    "- The Probability of 8 heads and 2 tails be denoted by $P(8_H2_T)$ \n",
    "\n",
    "\n",
    "**$P(B|2_H8_T)$ using Bayes' Theorem is:**\n",
    "\n",
    "$$P(B|2_H8_T) = P(2_H8_T|B)*\\frac{P(B)}{P(2_H8_T)}$$ <br>\n",
    "\n",
    "$$\\implies P(B|2_H8_T) =\\, ^{10}C_2(0.3)^2(0.7)^8*\\frac{0.5}{0.5*[^{10}C_2(0.75)^2(0.25)^8]+ 0.5*[^{10}C_2(0.3)^2(0.7)^8]}$$ <br>\n",
    "\n",
    "$$\\implies P(B|2_H8_T) = 0.9983$$ <br>\n",
    "\n",
    "**Similarly, $P(A|2_H8_T)$ is:** <br>\n",
    "\n",
    "$$P(A|2_H8_T) = P(2_H8_T|A)*\\frac{P(A)}{P(2_H8_T)}$$ <br>\n",
    "\n",
    "$$\\implies P(A|2_H8_T) =\\, ^{10}C_2(0.75)^2(0.25)^8*\\frac{0.5}{0.5*[^{10}C_2(0.75)^2(0.25)^8]+ 0.5*[^{10}C_2(0.3)^2(0.7)^8]}$$ <br>\n",
    "\n",
    "$$\\implies P(A|2_H8_T) = 0.0017$$ <br>\n",
    "\n",
    "**Thus, given the observed data, there is much higher probability that coin B was initially picked.**\n",
    "\n",
    "<br>"
   ],
   "cell_type": "markdown",
   "metadata": {}
  },
  {
   "cell_type": "code",
   "execution_count": 1,
   "metadata": {},
   "outputs": [
    {
     "output_type": "stream",
     "name": "stdout",
     "text": [
      "Probability of Coin A given 8 Heads & 2 Tails = 0.9949\n"
     ]
    }
   ],
   "source": [
    "## Calculations are shown below:\n",
    "\n",
    "from math import comb\n",
    "\n",
    "# Probabilty of Coin A given 8 heads & 2 Tails\n",
    "\n",
    "p1 = comb(10,8)*(0.75**8)*(0.25**2)\n",
    "q1 = 0.5\n",
    "r1 = 0.5*comb(10,8)*(0.75**8)*(0.25**2) + 0.5*comb(10,8)*(0.3**8)*(0.7**2)\n",
    "ans1 = p1*q1/r1\n",
    "print(\"Probability of Coin A given 8 Heads & 2 Tails = {:.4f}\".format(ans1)) "
   ]
  },
  {
   "cell_type": "code",
   "execution_count": 2,
   "metadata": {},
   "outputs": [
    {
     "output_type": "stream",
     "name": "stdout",
     "text": [
      "Probability of Coin B given 8 Heads & 2 Tails = 0.0051\n"
     ]
    }
   ],
   "source": [
    "# Probabilty of Coin B given 8 heads & 2 Tails\n",
    "\n",
    "p2 = comb(10,8)*(0.3**8)*(0.7**2)\n",
    "q2 = 0.5\n",
    "r2 = 0.5*comb(10,8)*(0.75**8)*(0.25**2) + 0.5*comb(10,8)*(0.3**8)*(0.7**2)\n",
    "ans2 = p2*q2/r2\n",
    "print(\"Probability of Coin B given 8 Heads & 2 Tails = {:.4f}\".format(ans2)) "
   ]
  },
  {
   "cell_type": "code",
   "execution_count": 3,
   "metadata": {},
   "outputs": [
    {
     "output_type": "stream",
     "name": "stdout",
     "text": [
      "Probability of Coin B given 2 Heads & 8 Tails = 0.9983\n"
     ]
    }
   ],
   "source": [
    "# Probabilty of Coin B given 2 heads & 8 Tails\n",
    "\n",
    "p3 = comb(10,2)*(0.3**2)*(0.7**8)\n",
    "q3 = 0.5\n",
    "r3 = 0.5*comb(10,2)*(0.75**2)*(0.25**8) + 0.5*comb(10,8)*(0.3**2)*(0.7**8)\n",
    "ans3 = p3*q3/r3\n",
    "print(\"Probability of Coin B given 2 Heads & 8 Tails = {:.4f}\".format(ans3)) "
   ]
  },
  {
   "cell_type": "code",
   "execution_count": 4,
   "metadata": {},
   "outputs": [
    {
     "output_type": "stream",
     "name": "stdout",
     "text": [
      "Probability of Coin A given 2 Heads & 8 Tails = 0.0017\n"
     ]
    }
   ],
   "source": [
    "# Probabilty of Coin A given 2 heads & 8 Tails\n",
    "\n",
    "p4 = comb(10,2)*(0.75**2)*(0.25**8)\n",
    "q4 = 0.5\n",
    "r4 = 0.5*comb(10,2)*(0.75**2)*(0.25**8) + 0.5*comb(10,8)*(0.3**2)*(0.7**8)\n",
    "ans4 = p4*q4/r4\n",
    "print(\"Probability of Coin A given 2 Heads & 8 Tails = {:.4f}\".format(ans4)) "
   ]
  },
  {
   "source": [
    "---"
   ],
   "cell_type": "markdown",
   "metadata": {}
  },
  {
   "source": [
    "<h2><p style=\"text-align:center;\"> The End. </p></h2>"
   ],
   "cell_type": "markdown",
   "metadata": {}
  },
  {
   "source": [
    "---"
   ],
   "cell_type": "markdown",
   "metadata": {}
  }
 ]
}