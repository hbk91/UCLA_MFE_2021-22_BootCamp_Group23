{
 "metadata": {
  "language_info": {
   "codemirror_mode": {
    "name": "ipython",
    "version": 3
   },
   "file_extension": ".py",
   "mimetype": "text/x-python",
   "name": "python",
   "nbconvert_exporter": "python",
   "pygments_lexer": "ipython3",
   "version": "3.8.8"
  },
  "orig_nbformat": 4,
  "kernelspec": {
   "name": "python3",
   "display_name": "Python 3.8.8 64-bit (conda)"
  },
  "interpreter": {
   "hash": "b3ba2566441a7c06988d0923437866b63cedc61552a5af99d1f4fb67d367b25f"
  }
 },
 "nbformat": 4,
 "nbformat_minor": 2,
 "cells": [
  {
   "source": [
    "<h2><p align=center> Assignment - Module 2 </p></h2>\n",
    "<h3><p align=center> 27 July 2021 </p></h3>\n",
    "<h3><p align=center> Group 23: Aman Jindal | Yuhang Jiang | Daniel Gabriel Tan | Qining Liu </p></h3>\n",
    "<br /><br />"
   ],
   "cell_type": "markdown",
   "metadata": {}
  },
  {
   "cell_type": "code",
   "execution_count": 1,
   "metadata": {},
   "outputs": [],
   "source": [
    "import pandas as pd\n",
    "import numpy as np\n",
    "import datetime as dt\n",
    "import os\n",
    "import re\n",
    "from pprint import pprint\n",
    "from functools import reduce"
   ]
  },
  {
   "source": [
    "#### Q1. Pandas Mul Function - Use this dataframe created in the code chunk below. We have three columns with random float values. The goal is to multiply columns 1 and 2 with columns 3. Firstly, notice how running the function (df[['col1','col2']]*df['col3']) returns a matrix of NaN values. Now, use the .mul() function by passing df[['col1','col2']].mul(df['col3'],axis=0). Notice how we get the same NaN matrix when we change axis=1 instead."
   ],
   "cell_type": "markdown",
   "metadata": {}
  },
  {
   "cell_type": "code",
   "execution_count": 2,
   "metadata": {},
   "outputs": [
    {
     "output_type": "execute_result",
     "data": {
      "text/plain": [
       "       col1      col2      col3\n",
       "0  0.696469  0.343178  0.634401\n",
       "1  0.286139  0.729050  0.849432\n",
       "2  0.226851  0.438572  0.724455\n",
       "3  0.551315  0.059678  0.611024\n",
       "4  0.719469  0.398044  0.722443\n",
       "5  0.423106  0.737995  0.322959\n",
       "6  0.980764  0.182492  0.361789\n",
       "7  0.684830  0.175452  0.228263\n",
       "8  0.480932  0.531551  0.293714\n",
       "9  0.392118  0.531828  0.630976"
      ],
      "text/html": "<div>\n<style scoped>\n    .dataframe tbody tr th:only-of-type {\n        vertical-align: middle;\n    }\n\n    .dataframe tbody tr th {\n        vertical-align: top;\n    }\n\n    .dataframe thead th {\n        text-align: right;\n    }\n</style>\n<table border=\"1\" class=\"dataframe\">\n  <thead>\n    <tr style=\"text-align: right;\">\n      <th></th>\n      <th>col1</th>\n      <th>col2</th>\n      <th>col3</th>\n    </tr>\n  </thead>\n  <tbody>\n    <tr>\n      <th>0</th>\n      <td>0.696469</td>\n      <td>0.343178</td>\n      <td>0.634401</td>\n    </tr>\n    <tr>\n      <th>1</th>\n      <td>0.286139</td>\n      <td>0.729050</td>\n      <td>0.849432</td>\n    </tr>\n    <tr>\n      <th>2</th>\n      <td>0.226851</td>\n      <td>0.438572</td>\n      <td>0.724455</td>\n    </tr>\n    <tr>\n      <th>3</th>\n      <td>0.551315</td>\n      <td>0.059678</td>\n      <td>0.611024</td>\n    </tr>\n    <tr>\n      <th>4</th>\n      <td>0.719469</td>\n      <td>0.398044</td>\n      <td>0.722443</td>\n    </tr>\n    <tr>\n      <th>5</th>\n      <td>0.423106</td>\n      <td>0.737995</td>\n      <td>0.322959</td>\n    </tr>\n    <tr>\n      <th>6</th>\n      <td>0.980764</td>\n      <td>0.182492</td>\n      <td>0.361789</td>\n    </tr>\n    <tr>\n      <th>7</th>\n      <td>0.684830</td>\n      <td>0.175452</td>\n      <td>0.228263</td>\n    </tr>\n    <tr>\n      <th>8</th>\n      <td>0.480932</td>\n      <td>0.531551</td>\n      <td>0.293714</td>\n    </tr>\n    <tr>\n      <th>9</th>\n      <td>0.392118</td>\n      <td>0.531828</td>\n      <td>0.630976</td>\n    </tr>\n  </tbody>\n</table>\n</div>"
     },
     "metadata": {},
     "execution_count": 2
    }
   ],
   "source": [
    "# Creating a dataframe for problem 1\n",
    "np.random.seed(123)\n",
    "df = pd.DataFrame() # Creating a blank data-frame\n",
    "df['col1'] = np.random.rand(10)\n",
    "df['col2'] = np.random.rand(10)\n",
    "df['col3'] = np.random.rand(10)\n",
    "df"
   ]
  },
  {
   "source": [
    "#### Answer 1:"
   ],
   "cell_type": "markdown",
   "metadata": {}
  },
  {
   "cell_type": "code",
   "execution_count": 3,
   "metadata": {},
   "outputs": [
    {
     "output_type": "execute_result",
     "data": {
      "text/plain": [
       "   col1  col2   0   1   2   3   4   5   6   7   8   9\n",
       "0   NaN   NaN NaN NaN NaN NaN NaN NaN NaN NaN NaN NaN\n",
       "1   NaN   NaN NaN NaN NaN NaN NaN NaN NaN NaN NaN NaN\n",
       "2   NaN   NaN NaN NaN NaN NaN NaN NaN NaN NaN NaN NaN\n",
       "3   NaN   NaN NaN NaN NaN NaN NaN NaN NaN NaN NaN NaN\n",
       "4   NaN   NaN NaN NaN NaN NaN NaN NaN NaN NaN NaN NaN\n",
       "5   NaN   NaN NaN NaN NaN NaN NaN NaN NaN NaN NaN NaN\n",
       "6   NaN   NaN NaN NaN NaN NaN NaN NaN NaN NaN NaN NaN\n",
       "7   NaN   NaN NaN NaN NaN NaN NaN NaN NaN NaN NaN NaN\n",
       "8   NaN   NaN NaN NaN NaN NaN NaN NaN NaN NaN NaN NaN\n",
       "9   NaN   NaN NaN NaN NaN NaN NaN NaN NaN NaN NaN NaN"
      ],
      "text/html": "<div>\n<style scoped>\n    .dataframe tbody tr th:only-of-type {\n        vertical-align: middle;\n    }\n\n    .dataframe tbody tr th {\n        vertical-align: top;\n    }\n\n    .dataframe thead th {\n        text-align: right;\n    }\n</style>\n<table border=\"1\" class=\"dataframe\">\n  <thead>\n    <tr style=\"text-align: right;\">\n      <th></th>\n      <th>col1</th>\n      <th>col2</th>\n      <th>0</th>\n      <th>1</th>\n      <th>2</th>\n      <th>3</th>\n      <th>4</th>\n      <th>5</th>\n      <th>6</th>\n      <th>7</th>\n      <th>8</th>\n      <th>9</th>\n    </tr>\n  </thead>\n  <tbody>\n    <tr>\n      <th>0</th>\n      <td>NaN</td>\n      <td>NaN</td>\n      <td>NaN</td>\n      <td>NaN</td>\n      <td>NaN</td>\n      <td>NaN</td>\n      <td>NaN</td>\n      <td>NaN</td>\n      <td>NaN</td>\n      <td>NaN</td>\n      <td>NaN</td>\n      <td>NaN</td>\n    </tr>\n    <tr>\n      <th>1</th>\n      <td>NaN</td>\n      <td>NaN</td>\n      <td>NaN</td>\n      <td>NaN</td>\n      <td>NaN</td>\n      <td>NaN</td>\n      <td>NaN</td>\n      <td>NaN</td>\n      <td>NaN</td>\n      <td>NaN</td>\n      <td>NaN</td>\n      <td>NaN</td>\n    </tr>\n    <tr>\n      <th>2</th>\n      <td>NaN</td>\n      <td>NaN</td>\n      <td>NaN</td>\n      <td>NaN</td>\n      <td>NaN</td>\n      <td>NaN</td>\n      <td>NaN</td>\n      <td>NaN</td>\n      <td>NaN</td>\n      <td>NaN</td>\n      <td>NaN</td>\n      <td>NaN</td>\n    </tr>\n    <tr>\n      <th>3</th>\n      <td>NaN</td>\n      <td>NaN</td>\n      <td>NaN</td>\n      <td>NaN</td>\n      <td>NaN</td>\n      <td>NaN</td>\n      <td>NaN</td>\n      <td>NaN</td>\n      <td>NaN</td>\n      <td>NaN</td>\n      <td>NaN</td>\n      <td>NaN</td>\n    </tr>\n    <tr>\n      <th>4</th>\n      <td>NaN</td>\n      <td>NaN</td>\n      <td>NaN</td>\n      <td>NaN</td>\n      <td>NaN</td>\n      <td>NaN</td>\n      <td>NaN</td>\n      <td>NaN</td>\n      <td>NaN</td>\n      <td>NaN</td>\n      <td>NaN</td>\n      <td>NaN</td>\n    </tr>\n    <tr>\n      <th>5</th>\n      <td>NaN</td>\n      <td>NaN</td>\n      <td>NaN</td>\n      <td>NaN</td>\n      <td>NaN</td>\n      <td>NaN</td>\n      <td>NaN</td>\n      <td>NaN</td>\n      <td>NaN</td>\n      <td>NaN</td>\n      <td>NaN</td>\n      <td>NaN</td>\n    </tr>\n    <tr>\n      <th>6</th>\n      <td>NaN</td>\n      <td>NaN</td>\n      <td>NaN</td>\n      <td>NaN</td>\n      <td>NaN</td>\n      <td>NaN</td>\n      <td>NaN</td>\n      <td>NaN</td>\n      <td>NaN</td>\n      <td>NaN</td>\n      <td>NaN</td>\n      <td>NaN</td>\n    </tr>\n    <tr>\n      <th>7</th>\n      <td>NaN</td>\n      <td>NaN</td>\n      <td>NaN</td>\n      <td>NaN</td>\n      <td>NaN</td>\n      <td>NaN</td>\n      <td>NaN</td>\n      <td>NaN</td>\n      <td>NaN</td>\n      <td>NaN</td>\n      <td>NaN</td>\n      <td>NaN</td>\n    </tr>\n    <tr>\n      <th>8</th>\n      <td>NaN</td>\n      <td>NaN</td>\n      <td>NaN</td>\n      <td>NaN</td>\n      <td>NaN</td>\n      <td>NaN</td>\n      <td>NaN</td>\n      <td>NaN</td>\n      <td>NaN</td>\n      <td>NaN</td>\n      <td>NaN</td>\n      <td>NaN</td>\n    </tr>\n    <tr>\n      <th>9</th>\n      <td>NaN</td>\n      <td>NaN</td>\n      <td>NaN</td>\n      <td>NaN</td>\n      <td>NaN</td>\n      <td>NaN</td>\n      <td>NaN</td>\n      <td>NaN</td>\n      <td>NaN</td>\n      <td>NaN</td>\n      <td>NaN</td>\n      <td>NaN</td>\n    </tr>\n  </tbody>\n</table>\n</div>"
     },
     "metadata": {},
     "execution_count": 3
    }
   ],
   "source": [
    "df[['col1','col2']]*df['col3']"
   ]
  },
  {
   "cell_type": "code",
   "execution_count": 4,
   "metadata": {},
   "outputs": [
    {
     "output_type": "execute_result",
     "data": {
      "text/plain": [
       "       col1      col2\n",
       "0  0.441841  0.217712\n",
       "1  0.243056  0.619278\n",
       "2  0.164344  0.317726\n",
       "3  0.336866  0.036465\n",
       "4  0.519776  0.287564\n",
       "5  0.136646  0.238342\n",
       "6  0.354829  0.066023\n",
       "7  0.156321  0.040049\n",
       "8  0.141256  0.156124\n",
       "9  0.247417  0.335571"
      ],
      "text/html": "<div>\n<style scoped>\n    .dataframe tbody tr th:only-of-type {\n        vertical-align: middle;\n    }\n\n    .dataframe tbody tr th {\n        vertical-align: top;\n    }\n\n    .dataframe thead th {\n        text-align: right;\n    }\n</style>\n<table border=\"1\" class=\"dataframe\">\n  <thead>\n    <tr style=\"text-align: right;\">\n      <th></th>\n      <th>col1</th>\n      <th>col2</th>\n    </tr>\n  </thead>\n  <tbody>\n    <tr>\n      <th>0</th>\n      <td>0.441841</td>\n      <td>0.217712</td>\n    </tr>\n    <tr>\n      <th>1</th>\n      <td>0.243056</td>\n      <td>0.619278</td>\n    </tr>\n    <tr>\n      <th>2</th>\n      <td>0.164344</td>\n      <td>0.317726</td>\n    </tr>\n    <tr>\n      <th>3</th>\n      <td>0.336866</td>\n      <td>0.036465</td>\n    </tr>\n    <tr>\n      <th>4</th>\n      <td>0.519776</td>\n      <td>0.287564</td>\n    </tr>\n    <tr>\n      <th>5</th>\n      <td>0.136646</td>\n      <td>0.238342</td>\n    </tr>\n    <tr>\n      <th>6</th>\n      <td>0.354829</td>\n      <td>0.066023</td>\n    </tr>\n    <tr>\n      <th>7</th>\n      <td>0.156321</td>\n      <td>0.040049</td>\n    </tr>\n    <tr>\n      <th>8</th>\n      <td>0.141256</td>\n      <td>0.156124</td>\n    </tr>\n    <tr>\n      <th>9</th>\n      <td>0.247417</td>\n      <td>0.335571</td>\n    </tr>\n  </tbody>\n</table>\n</div>"
     },
     "metadata": {},
     "execution_count": 4
    }
   ],
   "source": [
    "df[['col1','col2']].mul(df['col3'],axis=0)"
   ]
  },
  {
   "cell_type": "code",
   "execution_count": 5,
   "metadata": {},
   "outputs": [
    {
     "output_type": "execute_result",
     "data": {
      "text/plain": [
       "   col1  col2   0   1   2   3   4   5   6   7   8   9\n",
       "0   NaN   NaN NaN NaN NaN NaN NaN NaN NaN NaN NaN NaN\n",
       "1   NaN   NaN NaN NaN NaN NaN NaN NaN NaN NaN NaN NaN\n",
       "2   NaN   NaN NaN NaN NaN NaN NaN NaN NaN NaN NaN NaN\n",
       "3   NaN   NaN NaN NaN NaN NaN NaN NaN NaN NaN NaN NaN\n",
       "4   NaN   NaN NaN NaN NaN NaN NaN NaN NaN NaN NaN NaN\n",
       "5   NaN   NaN NaN NaN NaN NaN NaN NaN NaN NaN NaN NaN\n",
       "6   NaN   NaN NaN NaN NaN NaN NaN NaN NaN NaN NaN NaN\n",
       "7   NaN   NaN NaN NaN NaN NaN NaN NaN NaN NaN NaN NaN\n",
       "8   NaN   NaN NaN NaN NaN NaN NaN NaN NaN NaN NaN NaN\n",
       "9   NaN   NaN NaN NaN NaN NaN NaN NaN NaN NaN NaN NaN"
      ],
      "text/html": "<div>\n<style scoped>\n    .dataframe tbody tr th:only-of-type {\n        vertical-align: middle;\n    }\n\n    .dataframe tbody tr th {\n        vertical-align: top;\n    }\n\n    .dataframe thead th {\n        text-align: right;\n    }\n</style>\n<table border=\"1\" class=\"dataframe\">\n  <thead>\n    <tr style=\"text-align: right;\">\n      <th></th>\n      <th>col1</th>\n      <th>col2</th>\n      <th>0</th>\n      <th>1</th>\n      <th>2</th>\n      <th>3</th>\n      <th>4</th>\n      <th>5</th>\n      <th>6</th>\n      <th>7</th>\n      <th>8</th>\n      <th>9</th>\n    </tr>\n  </thead>\n  <tbody>\n    <tr>\n      <th>0</th>\n      <td>NaN</td>\n      <td>NaN</td>\n      <td>NaN</td>\n      <td>NaN</td>\n      <td>NaN</td>\n      <td>NaN</td>\n      <td>NaN</td>\n      <td>NaN</td>\n      <td>NaN</td>\n      <td>NaN</td>\n      <td>NaN</td>\n      <td>NaN</td>\n    </tr>\n    <tr>\n      <th>1</th>\n      <td>NaN</td>\n      <td>NaN</td>\n      <td>NaN</td>\n      <td>NaN</td>\n      <td>NaN</td>\n      <td>NaN</td>\n      <td>NaN</td>\n      <td>NaN</td>\n      <td>NaN</td>\n      <td>NaN</td>\n      <td>NaN</td>\n      <td>NaN</td>\n    </tr>\n    <tr>\n      <th>2</th>\n      <td>NaN</td>\n      <td>NaN</td>\n      <td>NaN</td>\n      <td>NaN</td>\n      <td>NaN</td>\n      <td>NaN</td>\n      <td>NaN</td>\n      <td>NaN</td>\n      <td>NaN</td>\n      <td>NaN</td>\n      <td>NaN</td>\n      <td>NaN</td>\n    </tr>\n    <tr>\n      <th>3</th>\n      <td>NaN</td>\n      <td>NaN</td>\n      <td>NaN</td>\n      <td>NaN</td>\n      <td>NaN</td>\n      <td>NaN</td>\n      <td>NaN</td>\n      <td>NaN</td>\n      <td>NaN</td>\n      <td>NaN</td>\n      <td>NaN</td>\n      <td>NaN</td>\n    </tr>\n    <tr>\n      <th>4</th>\n      <td>NaN</td>\n      <td>NaN</td>\n      <td>NaN</td>\n      <td>NaN</td>\n      <td>NaN</td>\n      <td>NaN</td>\n      <td>NaN</td>\n      <td>NaN</td>\n      <td>NaN</td>\n      <td>NaN</td>\n      <td>NaN</td>\n      <td>NaN</td>\n    </tr>\n    <tr>\n      <th>5</th>\n      <td>NaN</td>\n      <td>NaN</td>\n      <td>NaN</td>\n      <td>NaN</td>\n      <td>NaN</td>\n      <td>NaN</td>\n      <td>NaN</td>\n      <td>NaN</td>\n      <td>NaN</td>\n      <td>NaN</td>\n      <td>NaN</td>\n      <td>NaN</td>\n    </tr>\n    <tr>\n      <th>6</th>\n      <td>NaN</td>\n      <td>NaN</td>\n      <td>NaN</td>\n      <td>NaN</td>\n      <td>NaN</td>\n      <td>NaN</td>\n      <td>NaN</td>\n      <td>NaN</td>\n      <td>NaN</td>\n      <td>NaN</td>\n      <td>NaN</td>\n      <td>NaN</td>\n    </tr>\n    <tr>\n      <th>7</th>\n      <td>NaN</td>\n      <td>NaN</td>\n      <td>NaN</td>\n      <td>NaN</td>\n      <td>NaN</td>\n      <td>NaN</td>\n      <td>NaN</td>\n      <td>NaN</td>\n      <td>NaN</td>\n      <td>NaN</td>\n      <td>NaN</td>\n      <td>NaN</td>\n    </tr>\n    <tr>\n      <th>8</th>\n      <td>NaN</td>\n      <td>NaN</td>\n      <td>NaN</td>\n      <td>NaN</td>\n      <td>NaN</td>\n      <td>NaN</td>\n      <td>NaN</td>\n      <td>NaN</td>\n      <td>NaN</td>\n      <td>NaN</td>\n      <td>NaN</td>\n      <td>NaN</td>\n    </tr>\n    <tr>\n      <th>9</th>\n      <td>NaN</td>\n      <td>NaN</td>\n      <td>NaN</td>\n      <td>NaN</td>\n      <td>NaN</td>\n      <td>NaN</td>\n      <td>NaN</td>\n      <td>NaN</td>\n      <td>NaN</td>\n      <td>NaN</td>\n      <td>NaN</td>\n      <td>NaN</td>\n    </tr>\n  </tbody>\n</table>\n</div>"
     },
     "metadata": {},
     "execution_count": 5
    }
   ],
   "source": [
    "df[['col1','col2']].mul(df['col3'],axis=1)"
   ]
  },
  {
   "source": [
    "- This is happening because when we set axis = 1, pandas tries to multiply along the columns. Thus, for each row we have only two values (`col1` and `col2`), however there are 10 values from `col3` to be multiplied."
   ],
   "cell_type": "markdown",
   "metadata": {}
  },
  {
   "source": [
    "<hr style=\"border:.05px solid black\"><br>"
   ],
   "cell_type": "markdown",
   "metadata": {}
  },
  {
   "source": [
    "#### Q2. Load CSV data (stock_data.csv) - parse dates using the pd.to_datetime command, read the stock returns as numeric values using the pd.to_numeric command, drop all NaN values using the dropna(), and reset the index. We will be working with this dataframe (unless stated otherwise) for the remainder of the questions below.<br>\n",
    "#### Answer 2:"
   ],
   "cell_type": "markdown",
   "metadata": {}
  },
  {
   "cell_type": "code",
   "execution_count": 6,
   "metadata": {},
   "outputs": [],
   "source": [
    "input_file_folder = 'Data' # Folder Name within current directory where the file is stored\n",
    "input_file_name = 'stock_data.csv' # Name of the File\n",
    "cwd = os.getcwd() \n",
    "input_file_path = os.path.join(cwd, input_file_folder, input_file_name)"
   ]
  },
  {
   "cell_type": "code",
   "execution_count": 7,
   "metadata": {},
   "outputs": [
    {
     "output_type": "execute_result",
     "data": {
      "text/plain": [
       "permno                int64\n",
       "company_name         object\n",
       "date                 object\n",
       "total_returns        object\n",
       "price                object\n",
       "share_outstanding     int64\n",
       "dtype: object"
      ]
     },
     "metadata": {},
     "execution_count": 7
    }
   ],
   "source": [
    "# Reading the Data\r\n",
    "\r\n",
    "df = pd.read_csv(filepath_or_buffer=input_file_path, sep=',',header=0)\r\n",
    "df.dtypes"
   ]
  },
  {
   "cell_type": "code",
   "execution_count": 8,
   "metadata": {},
   "outputs": [
    {
     "output_type": "execute_result",
     "data": {
      "text/plain": [
       "permno                        int64\n",
       "company_name                 object\n",
       "date                 datetime64[ns]\n",
       "total_returns               float64\n",
       "price                       float64\n",
       "share_outstanding             int64\n",
       "dtype: object"
      ]
     },
     "metadata": {},
     "execution_count": 8
    }
   ],
   "source": [
    "# Converting `total_returns` to numeric, `price` to numeric, `date` to datetime  \n",
    "\n",
    "df['total_returns'] = pd.to_numeric(df['total_returns'], errors='coerce')\n",
    "df['price'] = pd.to_numeric(df['price'], errors='coerce')\n",
    "df['date'] = pd.to_datetime(df['date'], errors='coerce')\n",
    "df.dtypes"
   ]
  },
  {
   "cell_type": "code",
   "execution_count": 9,
   "metadata": {},
   "outputs": [
    {
     "output_type": "stream",
     "name": "stdout",
     "text": [
      "DataFrame Shape: (2913, 6)\n"
     ]
    }
   ],
   "source": [
    "# Dropping NaN rows and resetting the index\n",
    "\n",
    "df.dropna(axis=0, how='any', inplace=True)\n",
    "df.reset_index(drop=True, inplace=True)\n",
    "print('DataFrame Shape: {}'.format(df.shape))"
   ]
  },
  {
   "source": [
    "<hr style=\"border:.05px solid black\"><br>"
   ],
   "cell_type": "markdown",
   "metadata": {}
  },
  {
   "source": [
    "#### Q3. Aggregating - For each PERMNO, calculate the following statistics for the total_returns - sum, mean, std dev, and median. Hint - use .groupby('permno') and then aggregate by the stats(.agg() function might be useful).<br>\n",
    "#### Answer 3:"
   ],
   "cell_type": "markdown",
   "metadata": {}
  },
  {
   "cell_type": "code",
   "execution_count": 10,
   "metadata": {},
   "outputs": [
    {
     "output_type": "display_data",
     "data": {
      "text/plain": "       total_returns                        \n                 sum    mean std_pop  median\npermno                                      \n10001         1.0360  0.0113  0.0870  0.0050\n10006         1.8390  0.0163  0.0882  0.0037\n10014         1.8046  0.0668  0.1621  0.0714\n10028         4.1703  0.0184  0.1986  0.0000\n10029         0.4969  0.0155  0.1406 -0.0187",
      "text/html": "<div>\n<style scoped>\n    .dataframe tbody tr th:only-of-type {\n        vertical-align: middle;\n    }\n\n    .dataframe tbody tr th {\n        vertical-align: top;\n    }\n\n    .dataframe thead tr th {\n        text-align: left;\n    }\n\n    .dataframe thead tr:last-of-type th {\n        text-align: right;\n    }\n</style>\n<table border=\"1\" class=\"dataframe\">\n  <thead>\n    <tr>\n      <th></th>\n      <th colspan=\"4\" halign=\"left\">total_returns</th>\n    </tr>\n    <tr>\n      <th></th>\n      <th>sum</th>\n      <th>mean</th>\n      <th>std_pop</th>\n      <th>median</th>\n    </tr>\n    <tr>\n      <th>permno</th>\n      <th></th>\n      <th></th>\n      <th></th>\n      <th></th>\n    </tr>\n  </thead>\n  <tbody>\n    <tr>\n      <th>10001</th>\n      <td>1.0360</td>\n      <td>0.0113</td>\n      <td>0.0870</td>\n      <td>0.0050</td>\n    </tr>\n    <tr>\n      <th>10006</th>\n      <td>1.8390</td>\n      <td>0.0163</td>\n      <td>0.0882</td>\n      <td>0.0037</td>\n    </tr>\n    <tr>\n      <th>10014</th>\n      <td>1.8046</td>\n      <td>0.0668</td>\n      <td>0.1621</td>\n      <td>0.0714</td>\n    </tr>\n    <tr>\n      <th>10028</th>\n      <td>4.1703</td>\n      <td>0.0184</td>\n      <td>0.1986</td>\n      <td>0.0000</td>\n    </tr>\n    <tr>\n      <th>10029</th>\n      <td>0.4969</td>\n      <td>0.0155</td>\n      <td>0.1406</td>\n      <td>-0.0187</td>\n    </tr>\n  </tbody>\n</table>\n</div>"
     },
     "metadata": {}
    }
   ],
   "source": [
    "cols_to_group = ['total_returns']               # Columns to Group\n",
    "cols_to_groupby = ['permno']                    # Columns to Groupby \n",
    "\n",
    "std_pop_lambda = lambda x:x.std(ddof=0)         # Creating a custom function\n",
    "std_pop_lambda.__name__ = 'Std_Pop_Lambda'      # Naming the lambda Function\n",
    "def std_pop(x): return x.std(ddof=0)            # Another way to achieve the above. Need not name the function separately \n",
    "\n",
    "col_stats_reqd = ['sum', 'mean', std_pop,'median']      # Statistics required permno wise for Total Returns\n",
    "\n",
    "df_returns_groups = df.groupby(by=cols_to_groupby)[cols_to_group]\n",
    "df_returns_groups_stats = df_returns_groups.agg(col_stats_reqd).round(4)\n",
    "display(df_returns_groups_stats.head())"
   ]
  },
  {
   "source": [
    "<hr style=\"border:.05px solid black\"><br>"
   ],
   "cell_type": "markdown",
   "metadata": {}
  },
  {
   "source": [
    "#### Q4. Filtering Text - You can parse the company name column to search for companies that match your key words. A basic filter would be to check for \"OIL\", \"GAS\", and \"ENERGY\" companies. Write a program that returns the number of unique PERMNOs that match the above 3 key-words. Hint: Try using df['company_name'].str.contains(). If you are interested in text parsing in Python, regex (regular expression) is a powerful library you may want to try out! <br>\n",
    "\n",
    "#### Answer 4:"
   ],
   "cell_type": "markdown",
   "metadata": {}
  },
  {
   "cell_type": "code",
   "execution_count": 11,
   "metadata": {},
   "outputs": [
    {
     "output_type": "stream",
     "name": "stdout",
     "text": [
      "Dictionary of Permnos for specified Keywords\n\n\n{'OIL': {'Count': 0, 'permnos': []},\n 'GAS': {'Count': 1, 'permnos': [10001]},\n 'ENERGY': {'Count': 2, 'permnos': [10001, 10137]}}\n"
     ]
    }
   ],
   "source": [
    "col_reqd = 'permno'                         # Column name whose Unique Values are required\n",
    "col_to_search = 'company_name'              # Column name in which keywords needs to be searched \n",
    "info_to_collate = ['Count', 'permnos']      # Values that will be collated for all the keywords\n",
    "regex_dict = {'OIL': r'\\boil\\b',           # Regex patterns for keywords viz. oil, gas & energy\n",
    "              'GAS': r'\\bgas\\b',\n",
    "              'ENERGY': r'\\benergy\\b'}\n",
    "\n",
    "answer_dict = {}\n",
    "for key, pattern in regex_dict.items():\n",
    "    mask = df[col_to_search].str.contains(pattern, flags=re.IGNORECASE, regex=True)\n",
    "    unique_values_list = df.loc[mask, col_reqd].unique().tolist()\n",
    "    answer_dict[key] = dict(zip(info_to_collate,\n",
    "                                [len(unique_values_list),unique_values_list]))    \n",
    "    \n",
    "    \n",
    "print('Dictionary of Permnos for specified Keywords\\n\\n')\n",
    "pprint(answer_dict, sort_dicts=False)\n"
   ]
  },
  {
   "source": [
    "#### Q5. Merging - Create a new dataframe with the last available date and price for each PERMNO. For example, the only entry for PERMNO 10001 is 31-Jul-2017 (date) and 12.95 (price). Merge this new dataframe onto the original dataframe. Fill the missing/NaN values using pandas fillna function with a method of your choice.<br>\n",
    "#### Answer 5:"
   ],
   "cell_type": "markdown",
   "metadata": {}
  },
  {
   "cell_type": "code",
   "execution_count": 12,
   "metadata": {},
   "outputs": [
    {
     "output_type": "display_data",
     "data": {
      "text/plain": "   permno_original company_name date_original  total_returns  price_original  \\\n0            10001   ENERGY INC    2009-12-31       0.162621         10.3000   \n1            10001   ENERGY INC    2010-01-31      -0.018932         10.0600   \n2            10001   ENERGY INC    2010-02-28      -0.000656         10.0084   \n3            10001   ENERGY INC    2010-03-31       0.020643         10.1700   \n4            10001   ENERGY INC    2010-04-30       0.124385         11.3900   \n\n   share_outstanding  permno_filtered date_filtered  price_filtered  \n0               4361          10001.0    2009-12-31         10.3000  \n1               4361          10001.0    2010-01-31         10.0600  \n2               4361          10001.0    2010-02-28         10.0084  \n3               4361          10001.0    2010-03-31         10.1700  \n4               6070          10001.0    2010-04-30         11.3900  ",
      "text/html": "<div>\n<style scoped>\n    .dataframe tbody tr th:only-of-type {\n        vertical-align: middle;\n    }\n\n    .dataframe tbody tr th {\n        vertical-align: top;\n    }\n\n    .dataframe thead th {\n        text-align: right;\n    }\n</style>\n<table border=\"1\" class=\"dataframe\">\n  <thead>\n    <tr style=\"text-align: right;\">\n      <th></th>\n      <th>permno_original</th>\n      <th>company_name</th>\n      <th>date_original</th>\n      <th>total_returns</th>\n      <th>price_original</th>\n      <th>share_outstanding</th>\n      <th>permno_filtered</th>\n      <th>date_filtered</th>\n      <th>price_filtered</th>\n    </tr>\n  </thead>\n  <tbody>\n    <tr>\n      <th>0</th>\n      <td>10001</td>\n      <td>ENERGY INC</td>\n      <td>2009-12-31</td>\n      <td>0.162621</td>\n      <td>10.3000</td>\n      <td>4361</td>\n      <td>10001.0</td>\n      <td>2009-12-31</td>\n      <td>10.3000</td>\n    </tr>\n    <tr>\n      <th>1</th>\n      <td>10001</td>\n      <td>ENERGY INC</td>\n      <td>2010-01-31</td>\n      <td>-0.018932</td>\n      <td>10.0600</td>\n      <td>4361</td>\n      <td>10001.0</td>\n      <td>2010-01-31</td>\n      <td>10.0600</td>\n    </tr>\n    <tr>\n      <th>2</th>\n      <td>10001</td>\n      <td>ENERGY INC</td>\n      <td>2010-02-28</td>\n      <td>-0.000656</td>\n      <td>10.0084</td>\n      <td>4361</td>\n      <td>10001.0</td>\n      <td>2010-02-28</td>\n      <td>10.0084</td>\n    </tr>\n    <tr>\n      <th>3</th>\n      <td>10001</td>\n      <td>ENERGY INC</td>\n      <td>2010-03-31</td>\n      <td>0.020643</td>\n      <td>10.1700</td>\n      <td>4361</td>\n      <td>10001.0</td>\n      <td>2010-03-31</td>\n      <td>10.1700</td>\n    </tr>\n    <tr>\n      <th>4</th>\n      <td>10001</td>\n      <td>ENERGY INC</td>\n      <td>2010-04-30</td>\n      <td>0.124385</td>\n      <td>11.3900</td>\n      <td>6070</td>\n      <td>10001.0</td>\n      <td>2010-04-30</td>\n      <td>11.3900</td>\n    </tr>\n  </tbody>\n</table>\n</div>"
     },
     "metadata": {}
    },
    {
     "output_type": "stream",
     "name": "stdout",
     "text": [
      "\nDataFrame Shape: (2913, 9)\n"
     ]
    }
   ],
   "source": [
    "col_to_groupby = 'permno'                       # Column name whose Unique Values are required\n",
    "col_max = 'date'                                # Column whose max values id required to be figured out \n",
    "cols_to_retain = ['permno','date','price']      # Columns which are required post filtering    \n",
    "\n",
    "df_filtered = df.loc[df.groupby(cols_to_groupby)[col_max].agg(pd.Series.idxmax),\n",
    "                     cols_to_retain]          \n",
    "\n",
    "df_merged = pd.merge(left=df, right=df_filtered, how='outer',\n",
    "                     left_index=True, right_index=True,\n",
    "                     suffixes=['_original','_filtered'], sort=False)\n",
    "\n",
    "df_merged['permno_filtered'].fillna(df_merged['permno_original'], inplace=True)\n",
    "df_merged['date_filtered'].fillna(df_merged['date_original'], inplace=True)\n",
    "df_merged['price_filtered'].fillna(df_merged['price_original'], inplace=True)\n",
    "\n",
    "display(df_merged.head())\n",
    "print('\\nDataFrame Shape: {}'.format(df_merged.shape))"
   ]
  },
  {
   "source": [
    "<hr style=\"border:.05px solid black\"><br>"
   ],
   "cell_type": "markdown",
   "metadata": {}
  },
  {
   "source": [
    "#### Q6. Lagged Market Cap - Create three new columns that contain the 6-month, 1-year, and 5-year lagged market cap. For example: PERMNO 10001 on 30-Jun-2016 will have the market cap as on 31-Dec-2015 (7.45 $\\cdot$ 10505 = 78262.25) as its 6-month lag market cap. Perform a similar exercise to generate the 1-year and the 5-year lag market caps. <br>\n",
    "\n",
    "#### Answer 6:"
   ],
   "cell_type": "markdown",
   "metadata": {}
  },
  {
   "cell_type": "code",
   "execution_count": 13,
   "metadata": {},
   "outputs": [
    {
     "output_type": "display_data",
     "data": {
      "text/plain": "      permno          company_name       date  total_returns  price  \\\n2908   10137  ALLEGHENY ENERGY INC 2010-07-31       0.102514  22.80   \n2909   10137  ALLEGHENY ENERGY INC 2010-08-31      -0.010965  22.55   \n2910   10137  ALLEGHENY ENERGY INC 2010-09-30       0.094013  24.52   \n2911   10137  ALLEGHENY ENERGY INC 2010-10-31      -0.053834  23.20   \n2912   10137  ALLEGHENY ENERGY INC 2011-01-31       0.063531  25.78   \n\n      share_outstanding  market_cap  market_cap_lag6months  \\\n2908             169579  3866401.20             3552344.85   \n2909             169615  3824818.25             3840760.50   \n2910             169615  4158959.80             3900110.00   \n2911             169615  3935068.00             3693234.60   \n2912             169939  4381027.42             3866401.20   \n\n      market_cap_lag12months  market_cap_lag60months  \n2908              4270548.79              4632333.00  \n2909              4476046.03              4908238.40  \n2910              4494689.16              5000048.64  \n2911              3867602.06              4599654.12  \n2912              3552344.85              5665655.87  ",
      "text/html": "<div>\n<style scoped>\n    .dataframe tbody tr th:only-of-type {\n        vertical-align: middle;\n    }\n\n    .dataframe tbody tr th {\n        vertical-align: top;\n    }\n\n    .dataframe thead th {\n        text-align: right;\n    }\n</style>\n<table border=\"1\" class=\"dataframe\">\n  <thead>\n    <tr style=\"text-align: right;\">\n      <th></th>\n      <th>permno</th>\n      <th>company_name</th>\n      <th>date</th>\n      <th>total_returns</th>\n      <th>price</th>\n      <th>share_outstanding</th>\n      <th>market_cap</th>\n      <th>market_cap_lag6months</th>\n      <th>market_cap_lag12months</th>\n      <th>market_cap_lag60months</th>\n    </tr>\n  </thead>\n  <tbody>\n    <tr>\n      <th>2908</th>\n      <td>10137</td>\n      <td>ALLEGHENY ENERGY INC</td>\n      <td>2010-07-31</td>\n      <td>0.102514</td>\n      <td>22.80</td>\n      <td>169579</td>\n      <td>3866401.20</td>\n      <td>3552344.85</td>\n      <td>4270548.79</td>\n      <td>4632333.00</td>\n    </tr>\n    <tr>\n      <th>2909</th>\n      <td>10137</td>\n      <td>ALLEGHENY ENERGY INC</td>\n      <td>2010-08-31</td>\n      <td>-0.010965</td>\n      <td>22.55</td>\n      <td>169615</td>\n      <td>3824818.25</td>\n      <td>3840760.50</td>\n      <td>4476046.03</td>\n      <td>4908238.40</td>\n    </tr>\n    <tr>\n      <th>2910</th>\n      <td>10137</td>\n      <td>ALLEGHENY ENERGY INC</td>\n      <td>2010-09-30</td>\n      <td>0.094013</td>\n      <td>24.52</td>\n      <td>169615</td>\n      <td>4158959.80</td>\n      <td>3900110.00</td>\n      <td>4494689.16</td>\n      <td>5000048.64</td>\n    </tr>\n    <tr>\n      <th>2911</th>\n      <td>10137</td>\n      <td>ALLEGHENY ENERGY INC</td>\n      <td>2010-10-31</td>\n      <td>-0.053834</td>\n      <td>23.20</td>\n      <td>169615</td>\n      <td>3935068.00</td>\n      <td>3693234.60</td>\n      <td>3867602.06</td>\n      <td>4599654.12</td>\n    </tr>\n    <tr>\n      <th>2912</th>\n      <td>10137</td>\n      <td>ALLEGHENY ENERGY INC</td>\n      <td>2011-01-31</td>\n      <td>0.063531</td>\n      <td>25.78</td>\n      <td>169939</td>\n      <td>4381027.42</td>\n      <td>3866401.20</td>\n      <td>3552344.85</td>\n      <td>5665655.87</td>\n    </tr>\n  </tbody>\n</table>\n</div>"
     },
     "metadata": {}
    },
    {
     "output_type": "stream",
     "name": "stdout",
     "text": [
      "\nDataFrame Shape: (2913, 10)\n"
     ]
    }
   ],
   "source": [
    "# Method 1 of Solving Question 6\n",
    "\n",
    "lag_freqs = [6, 12, 60]                                 # List of lag frequencies in months\n",
    "df['market_cap'] = df['price']*df['share_outstanding']\n",
    "\n",
    "dfs_to_add = [df.set_index('date').groupby('permno')['market_cap']\n",
    "                .shift(periods=lag, freq='M')\n",
    "                .rename('market_cap_lag'+str(lag)+'months')\n",
    "                .reset_index() for lag in lag_freqs]\n",
    "\n",
    "df_ans_m1 = reduce(lambda left,right: pd.merge(left, right, how='left',\n",
    "                                               on=['permno','date']), [df] + dfs_to_add)\n",
    "\n",
    "df_ans_m1.fillna(np.nan,inplace=True)\n",
    "display(df_ans_m1.tail())\n",
    "print('\\nDataFrame Shape: {}'.format(df_ans_m1.shape))"
   ]
  },
  {
   "cell_type": "code",
   "execution_count": 14,
   "metadata": {},
   "outputs": [
    {
     "output_type": "display_data",
     "data": {
      "text/plain": "      permno          company_name       date  total_returns  price  \\\n2908   10137  ALLEGHENY ENERGY INC 2010-07-31       0.102514  22.80   \n2909   10137  ALLEGHENY ENERGY INC 2010-08-31      -0.010965  22.55   \n2910   10137  ALLEGHENY ENERGY INC 2010-09-30       0.094013  24.52   \n2911   10137  ALLEGHENY ENERGY INC 2010-10-31      -0.053834  23.20   \n2912   10137  ALLEGHENY ENERGY INC 2011-01-31       0.063531  25.78   \n\n      share_outstanding  market_cap  market_cap_lag6months  \\\n2908             169579  3866401.20             3552344.85   \n2909             169615  3824818.25             3840760.50   \n2910             169615  4158959.80             3900110.00   \n2911             169615  3935068.00             3693234.60   \n2912             169939  4381027.42             3866401.20   \n\n      market_cap_lag12months  market_cap_lag60months  \n2908              4270548.79              4632333.00  \n2909              4476046.03              4908238.40  \n2910              4494689.16              5000048.64  \n2911              3867602.06              4599654.12  \n2912              3552344.85              5665655.87  ",
      "text/html": "<div>\n<style scoped>\n    .dataframe tbody tr th:only-of-type {\n        vertical-align: middle;\n    }\n\n    .dataframe tbody tr th {\n        vertical-align: top;\n    }\n\n    .dataframe thead th {\n        text-align: right;\n    }\n</style>\n<table border=\"1\" class=\"dataframe\">\n  <thead>\n    <tr style=\"text-align: right;\">\n      <th></th>\n      <th>permno</th>\n      <th>company_name</th>\n      <th>date</th>\n      <th>total_returns</th>\n      <th>price</th>\n      <th>share_outstanding</th>\n      <th>market_cap</th>\n      <th>market_cap_lag6months</th>\n      <th>market_cap_lag12months</th>\n      <th>market_cap_lag60months</th>\n    </tr>\n  </thead>\n  <tbody>\n    <tr>\n      <th>2908</th>\n      <td>10137</td>\n      <td>ALLEGHENY ENERGY INC</td>\n      <td>2010-07-31</td>\n      <td>0.102514</td>\n      <td>22.80</td>\n      <td>169579</td>\n      <td>3866401.20</td>\n      <td>3552344.85</td>\n      <td>4270548.79</td>\n      <td>4632333.00</td>\n    </tr>\n    <tr>\n      <th>2909</th>\n      <td>10137</td>\n      <td>ALLEGHENY ENERGY INC</td>\n      <td>2010-08-31</td>\n      <td>-0.010965</td>\n      <td>22.55</td>\n      <td>169615</td>\n      <td>3824818.25</td>\n      <td>3840760.50</td>\n      <td>4476046.03</td>\n      <td>4908238.40</td>\n    </tr>\n    <tr>\n      <th>2910</th>\n      <td>10137</td>\n      <td>ALLEGHENY ENERGY INC</td>\n      <td>2010-09-30</td>\n      <td>0.094013</td>\n      <td>24.52</td>\n      <td>169615</td>\n      <td>4158959.80</td>\n      <td>3900110.00</td>\n      <td>4494689.16</td>\n      <td>5000048.64</td>\n    </tr>\n    <tr>\n      <th>2911</th>\n      <td>10137</td>\n      <td>ALLEGHENY ENERGY INC</td>\n      <td>2010-10-31</td>\n      <td>-0.053834</td>\n      <td>23.20</td>\n      <td>169615</td>\n      <td>3935068.00</td>\n      <td>3693234.60</td>\n      <td>3867602.06</td>\n      <td>4599654.12</td>\n    </tr>\n    <tr>\n      <th>2912</th>\n      <td>10137</td>\n      <td>ALLEGHENY ENERGY INC</td>\n      <td>2011-01-31</td>\n      <td>0.063531</td>\n      <td>25.78</td>\n      <td>169939</td>\n      <td>4381027.42</td>\n      <td>3866401.20</td>\n      <td>3552344.85</td>\n      <td>5665655.87</td>\n    </tr>\n  </tbody>\n</table>\n</div>"
     },
     "metadata": {}
    },
    {
     "output_type": "stream",
     "name": "stdout",
     "text": [
      "\nDataFrame Shape: (2913, 10)\n"
     ]
    }
   ],
   "source": [
    "# Method 2 of Solving Question 6\n",
    "\n",
    "lag_freqs = [6, 12, 60]                                 # List of lag frequencies in months\n",
    "col_to_groupby = 'permno'\n",
    "time_freq = 'M'                                         # Time Frequency of Data is Monthly\n",
    "\n",
    "df['market_cap'] = df['price']*df['share_outstanding']\n",
    "df.index.name = 'original_index'                        # Setting an index name for ease of reference\n",
    "df_permno_groups = df.groupby(col_to_groupby)\n",
    "df_ans_m2 = pd.DataFrame()                              # DataFrame to collate answers\n",
    "\n",
    "for name, df_group in df_permno_groups:\n",
    "    df_group.reset_index(inplace=True)\n",
    "    df_group.set_index('date', drop=False, inplace=True)\n",
    "\n",
    "    for lag in lag_freqs:\n",
    "        df_group['market_cap_lag'+str(lag)+'months'] = df_group['market_cap'].shift(periods=lag, freq=time_freq)\n",
    "\n",
    "    df_group.fillna(np.nan, inplace=True) \n",
    "    df_group.set_index(df.index.name, inplace=True)\n",
    "    df_ans_m2 = pd.concat([df_ans_m2, df_group]) \n",
    "\n",
    "df_ans_m2.index.name = None\n",
    "df.index.name = None\n",
    "display(df_ans_m2.tail())\n",
    "print('\\nDataFrame Shape: {}'.format(df_ans_m2.shape))"
   ]
  },
  {
   "source": [
    "<hr style=\"border:.05px solid black\"><br>"
   ],
   "cell_type": "markdown",
   "metadata": {}
  },
  {
   "source": [
    "#### Q7. Resampling Frequency - Convert the monthly dataframe that you loaded above into quarterly data and annual data. Hint: First, load and clean the data as per procedure mentioned above. Second, create a new column containing quarters corresponding to the given month (ex: 30-Nov-2010 is a quarter 4). Lastly, create a new dataframe \"df_quarter\" by aggregating data using the groupby command. For the quarterly dataframe your columns will be {permno, date, quarter, total_returns, market_cap}. Note that you will need to add the monthly returns to generate quarterly returns. Also note that you will need the quarter end market cap for each PERMNO each quarter. For example : In the Quarterly dataframe, PERMNO 10001 as of 31-Mar-2010 will have total returns 0.001055 (-0.018932-0.000656+0.020643) and the market cap 44351.37 (10.17$\\cdot$4361). Perform the same procedure for creating data at an annual frequency.<br>\n",
    "\n",
    "#### Answer 7:"
   ],
   "cell_type": "markdown",
   "metadata": {}
  },
  {
   "cell_type": "code",
   "execution_count": 15,
   "metadata": {},
   "outputs": [
    {
     "output_type": "display_data",
     "data": {
      "text/plain": "   permno     company_name       date  price  share_outstanding  market_cap  \\\n0   10001       ENERGY INC 2009-12-31  10.30             4361.0    44918.30   \n1   10001       ENERGY INC 2010-03-31  10.17             4361.0    44351.37   \n2   10001       ENERGY INC 2010-06-30  10.86             6080.0    66028.80   \n3   10001  GAS NATURAL INC 2010-09-30  11.12             6073.0    67531.76   \n4   10001  GAS NATURAL INC 2010-12-31  10.52             7834.0    82413.68   \n\n   total_returns  \n0       0.162621  \n1       0.001055  \n2       0.085793  \n3       0.048630  \n4      -0.033330  ",
      "text/html": "<div>\n<style scoped>\n    .dataframe tbody tr th:only-of-type {\n        vertical-align: middle;\n    }\n\n    .dataframe tbody tr th {\n        vertical-align: top;\n    }\n\n    .dataframe thead th {\n        text-align: right;\n    }\n</style>\n<table border=\"1\" class=\"dataframe\">\n  <thead>\n    <tr style=\"text-align: right;\">\n      <th></th>\n      <th>permno</th>\n      <th>company_name</th>\n      <th>date</th>\n      <th>price</th>\n      <th>share_outstanding</th>\n      <th>market_cap</th>\n      <th>total_returns</th>\n    </tr>\n  </thead>\n  <tbody>\n    <tr>\n      <th>0</th>\n      <td>10001</td>\n      <td>ENERGY INC</td>\n      <td>2009-12-31</td>\n      <td>10.30</td>\n      <td>4361.0</td>\n      <td>44918.30</td>\n      <td>0.162621</td>\n    </tr>\n    <tr>\n      <th>1</th>\n      <td>10001</td>\n      <td>ENERGY INC</td>\n      <td>2010-03-31</td>\n      <td>10.17</td>\n      <td>4361.0</td>\n      <td>44351.37</td>\n      <td>0.001055</td>\n    </tr>\n    <tr>\n      <th>2</th>\n      <td>10001</td>\n      <td>ENERGY INC</td>\n      <td>2010-06-30</td>\n      <td>10.86</td>\n      <td>6080.0</td>\n      <td>66028.80</td>\n      <td>0.085793</td>\n    </tr>\n    <tr>\n      <th>3</th>\n      <td>10001</td>\n      <td>GAS NATURAL INC</td>\n      <td>2010-09-30</td>\n      <td>11.12</td>\n      <td>6073.0</td>\n      <td>67531.76</td>\n      <td>0.048630</td>\n    </tr>\n    <tr>\n      <th>4</th>\n      <td>10001</td>\n      <td>GAS NATURAL INC</td>\n      <td>2010-12-31</td>\n      <td>10.52</td>\n      <td>7834.0</td>\n      <td>82413.68</td>\n      <td>-0.033330</td>\n    </tr>\n  </tbody>\n</table>\n</div>"
     },
     "metadata": {}
    },
    {
     "output_type": "stream",
     "name": "stdout",
     "text": [
      "\nDataFrame Shape: (1037, 7)\n"
     ]
    }
   ],
   "source": [
    "# Quarterly Data Conversion\n",
    "\n",
    "df_quarterly = pd.merge(left=df.drop(['total_returns'], axis=1), \n",
    "                        right=df.groupby('permno')\n",
    "                                .resample('Q', on='date')['total_returns']\n",
    "                                .sum().reset_index(), \n",
    "                        how='right', on=['permno','date']).reset_index(drop=True)\n",
    "\n",
    "display(df_quarterly.head())\n",
    "print('\\nDataFrame Shape: {}'.format(df_quarterly.shape))"
   ]
  },
  {
   "cell_type": "code",
   "execution_count": 16,
   "metadata": {},
   "outputs": [
    {
     "output_type": "display_data",
     "data": {
      "text/plain": "   permno     company_name       date  price  share_outstanding  market_cap  \\\n0   10001       ENERGY INC 2009-12-31  10.30             4361.0    44918.30   \n1   10001  GAS NATURAL INC 2010-12-31  10.52             7834.0    82413.68   \n2   10001  GAS NATURAL INC 2011-12-31  11.42             8154.0    93118.68   \n3   10001  GAS NATURAL INC 2012-12-31   9.33             8157.0    76104.81   \n4   10001  GAS NATURAL INC 2013-12-31   8.03            10452.0    83929.56   \n\n   total_returns  \n0       0.162621  \n1       0.102148  \n2       0.136491  \n3      -0.143090  \n4      -0.080232  ",
      "text/html": "<div>\n<style scoped>\n    .dataframe tbody tr th:only-of-type {\n        vertical-align: middle;\n    }\n\n    .dataframe tbody tr th {\n        vertical-align: top;\n    }\n\n    .dataframe thead th {\n        text-align: right;\n    }\n</style>\n<table border=\"1\" class=\"dataframe\">\n  <thead>\n    <tr style=\"text-align: right;\">\n      <th></th>\n      <th>permno</th>\n      <th>company_name</th>\n      <th>date</th>\n      <th>price</th>\n      <th>share_outstanding</th>\n      <th>market_cap</th>\n      <th>total_returns</th>\n    </tr>\n  </thead>\n  <tbody>\n    <tr>\n      <th>0</th>\n      <td>10001</td>\n      <td>ENERGY INC</td>\n      <td>2009-12-31</td>\n      <td>10.30</td>\n      <td>4361.0</td>\n      <td>44918.30</td>\n      <td>0.162621</td>\n    </tr>\n    <tr>\n      <th>1</th>\n      <td>10001</td>\n      <td>GAS NATURAL INC</td>\n      <td>2010-12-31</td>\n      <td>10.52</td>\n      <td>7834.0</td>\n      <td>82413.68</td>\n      <td>0.102148</td>\n    </tr>\n    <tr>\n      <th>2</th>\n      <td>10001</td>\n      <td>GAS NATURAL INC</td>\n      <td>2011-12-31</td>\n      <td>11.42</td>\n      <td>8154.0</td>\n      <td>93118.68</td>\n      <td>0.136491</td>\n    </tr>\n    <tr>\n      <th>3</th>\n      <td>10001</td>\n      <td>GAS NATURAL INC</td>\n      <td>2012-12-31</td>\n      <td>9.33</td>\n      <td>8157.0</td>\n      <td>76104.81</td>\n      <td>-0.143090</td>\n    </tr>\n    <tr>\n      <th>4</th>\n      <td>10001</td>\n      <td>GAS NATURAL INC</td>\n      <td>2013-12-31</td>\n      <td>8.03</td>\n      <td>10452.0</td>\n      <td>83929.56</td>\n      <td>-0.080232</td>\n    </tr>\n  </tbody>\n</table>\n</div>"
     },
     "metadata": {}
    },
    {
     "output_type": "stream",
     "name": "stdout",
     "text": [
      "\nDataFrame Shape: (277, 7)\n"
     ]
    }
   ],
   "source": [
    "# Yearly Data Conversion\n",
    "\n",
    "df_yearly = pd.merge(left=df.drop(['total_returns'], axis=1), \n",
    "                     right=df.groupby('permno')\n",
    "                             .resample('Y', on='date')['total_returns']\n",
    "                             .sum().reset_index(), \n",
    "                     how='right', on=['permno','date']).reset_index(drop=True)\n",
    "\n",
    "display(df_yearly.head())\n",
    "print('\\nDataFrame Shape: {}'.format(df_yearly.shape))"
   ]
  },
  {
   "source": [
    "<br><br>"
   ],
   "cell_type": "markdown",
   "metadata": {}
  },
  {
   "source": [
    "<hr style=\"border:1px solid black\">"
   ],
   "cell_type": "markdown",
   "metadata": {}
  },
  {
   "source": [
    "<h2><p align=center>The End.</p></h2>"
   ],
   "cell_type": "markdown",
   "metadata": {}
  },
  {
   "source": [
    "<hr style=\"border:1px solid black\">"
   ],
   "cell_type": "markdown",
   "metadata": {}
  }
 ]
}