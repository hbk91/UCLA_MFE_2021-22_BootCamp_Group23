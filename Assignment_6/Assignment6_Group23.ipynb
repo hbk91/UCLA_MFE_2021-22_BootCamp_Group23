{
 "metadata": {
  "language_info": {
   "codemirror_mode": {
    "name": "ipython",
    "version": 3
   },
   "file_extension": ".py",
   "mimetype": "text/x-python",
   "name": "python",
   "nbconvert_exporter": "python",
   "pygments_lexer": "ipython3",
   "version": "3.8.8"
  },
  "orig_nbformat": 4,
  "kernelspec": {
   "name": "python3",
   "display_name": "Python 3.8.8 64-bit ('ProgramData': virtualenv)"
  },
  "interpreter": {
   "hash": "b3ba2566441a7c06988d0923437866b63cedc61552a5af99d1f4fb67d367b25f"
  }
 },
 "nbformat": 4,
 "nbformat_minor": 2,
 "cells": [
  {
   "source": [
    "<h2><p style=\"text-align:center;\"> Assignment - Module 6 </p></h2>\n",
    "<h3><p style=\"text-align:center;\"> 06 August 2021 </p></h3>\n",
    "<h3><p style=\"text-align:center;\"> Group 23: Aman Jindal | Yuhang Jiang | Daniel Gabriel Tan | Qining Liu </p></h3>\n",
    "<br>"
   ],
   "cell_type": "markdown",
   "metadata": {}
  },
  {
   "source": [
    "#### Q1.Show that sum of two independent binomial distributions is also binomial, i.e. X ∼ Bin(n, p), Y ∼ Bin(m, p) then X + Y ∼ Bin(n + m, p). Hint: You might want to use the Vandermonde’s identity.<br>"
   ],
   "cell_type": "markdown",
   "metadata": {}
  },
  {
   "source": [
    "#### Answer 1:\n",
    "\n",
    "#### For, any value $a$ for random variables $X$ and $Y$, such that, $0\\le{a}\\le{n+m}$, we have:\n",
    "$$P(X+Y = a) = \\sum_{i=0}^{a} {P(X = i, Y = a-i)} \\qquad \\text{where,} \\,\\, 0\\le{a}\\le{n+m}$$ <br>\n",
    "\n",
    "#### As the Binomial experiments are independent, we have:\n",
    "\n",
    "$$\\therefore P(X+Y = a) = \\sum_{i=0}^{a} {P(X = i) P(Y = a-i)}$$ <br>\n",
    "\n",
    "$$\\implies P(X+Y = a) = \\sum_{i=0}^{a} {[^nC_ip^i(1-p)^{n-i}}]\\,[^mC_{a-i}p^{a-i}(1-p)^{m-a+i}]$$ <br>\n",
    "\n",
    "$$\\implies P(X+Y = a) = \\sum_{i=0}^{a} {^nC_{i}\\,^mC_{a-i}\\,p^a(1-p)^{n+m-a}}$$ <br>\n",
    "\n",
    "$$\\implies P(X+Y = a) = p^a(1-p)^{n+m-a}\\sum_{i=0}^{a} {^nC_{i}\\,^mC_{a-i}\\,}$$ <br>\n",
    "\n",
    "#### Now, Vandermonde's identity states that: $\\quad^{m+n}C_{r} = \\sum_{k=0}^{r} {^mC_{k}\\,^nC_{r-k}\\,}$ <br>\n",
    "\n",
    "$$\\therefore P(X+Y = a) =\\,^{m+n}C_{a}\\, p^a(1-p)^{n+m-a}$$ <br>\n",
    "\n",
    "$$\\implies X+Y \\sim Bin(n+m, p)  $$ <br>\n",
    "\n",
    "#### Q.E.D."
   ],
   "cell_type": "markdown",
   "metadata": {}
  },
  {
   "source": [
    "---\n",
    "<br>"
   ],
   "cell_type": "markdown",
   "metadata": {}
  },
  {
   "source": [
    "#### Q2. Say X ∼ Pois(3) and Y ∼ Pois(2) are two independent poisson distributions. Compute the probability that X + Y = 5. Additionally, compute the probability that X = 4, Y = 1 given X + Y = 5. Hint: Sum of two poisson distributions is also a poisson distribution. For the second part, independence assumption is key! <br>"
   ],
   "cell_type": "markdown",
   "metadata": {}
  },
  {
   "source": [
    "#### Answer 2:\n",
    "\n",
    "#### i. Probability that $X + Y = 5$\n",
    "\n",
    "#### For a poisson distribution, if $X_i \\sim Pois(\\lambda_i) \\quad \\text{for}\\, i= 1,2,....,n \\;$; then:\n",
    "\n",
    "$$\\sum_{i=1}^n X_i \\sim Pois\\left(\\sum_{i=1}^{n}\\right)\\lambda_{i}$$ <br>\n",
    "\n",
    "#### Thus, $$X+Y \\sim Pois(5)$$ \n",
    "\n",
    "#### Therefore,\n",
    "\n",
    "$$P(X+Y = 5) = \\frac{\\lambda^{k}e^{-\\lambda}}{k!}, \\quad \\text{where} \\; \\lambda=5,\\: k = 5; $$ <br>\n",
    "\n",
    "$$P(X+Y = 5) = 0.1755 $$ <br>\n",
    "\n",
    "#### ii. Probability that $X = 4, Y = 1, \\; given \\; X + Y = 5$\n",
    "\n",
    "#### $X + Y = 5,$ can result from the following $(X,Y)$ combinations $(0,5), (1,4), (2,3), (3,2), (4,1), and\\; (5,0).$\n",
    "\n",
    "- Thus Probability that $X = 4, Y = 1, \\; given \\; X + Y = 5$ would be the probability of the pair $(4, 1)$ divided by the sum of the probabilities of all the $(X,Y)$ pairs that result in $X + Y = 5$ <br>\n",
    "\n",
    "- The sum of all the $(X,Y)$ pairs that result in $X + Y = 5$ is same the probability calculated in part (i) above.\n",
    "\n",
    "#### Therefore, Probability that $X = 4, Y = 1, \\; given \\; X + Y = 5$ is:\n",
    "\n",
    "$$P(X=4, Y=1 | X+Y = 5) = \\frac{P(X=4)*P(Y=1)}{P (X+Y=5)}$$ <br>\n",
    "\n",
    "- Note: X & Y are independent\n",
    "\n",
    "$$P(X=4, Y=1 | X+Y = 5) = 0.2592$$ <br>"
   ],
   "cell_type": "markdown",
   "metadata": {}
  },
  {
   "cell_type": "code",
   "execution_count": 1,
   "metadata": {},
   "outputs": [
    {
     "output_type": "stream",
     "name": "stdout",
     "text": [
      "Using the first method, Probability of X+Y = 5 is 0.1755\nUsing the second method, Probability of X+Y = 5 is 0.1755\nProbability of X = 4 and Y = 1, given X+Y = 5 is 0.2592\n"
     ]
    }
   ],
   "source": [
    "# Calculations\n",
    "\n",
    "import numpy as np\n",
    "import math\n",
    "\n",
    "def poisson_pmf(mean, k): return (mean**k)*np.exp(-mean)/math.factorial(k)\n",
    "\n",
    "x_mean = 3\n",
    "y_mean = 2\n",
    "x = np.arange(6)\n",
    "y = np.arange(6)[::-1]\n",
    "\n",
    "xy_pairs = [(i, j) for i, j in zip(x,y)]\n",
    "prob_xy5 = sum([poisson_pmf(x_mean, i)*poisson_pmf(y_mean, j) for i, j in xy_pairs])\n",
    "prob_xy5_check = poisson_pmf(x_mean+y_mean, 5)\n",
    "prob_x4_y1_xy5 = poisson_pmf(x_mean, 4)*poisson_pmf(y_mean, 1)/poisson_pmf(x_mean+y_mean, 5)\n",
    "\n",
    "print('Using the first method, Probability of X+Y = 5 is {:.4f}'.format(prob_xy5))\n",
    "print('Using the second method, Probability of X+Y = 5 is {:.4f}'.format(prob_xy5_check))\n",
    "print('Probability of X = 4 and Y = 1, given X+Y = 5 is {:.4f}'.format(prob_x4_y1_xy5))"
   ]
  },
  {
   "source": [
    "---"
   ],
   "cell_type": "markdown",
   "metadata": {}
  },
  {
   "source": [
    "#### Q3. The arrival of buses at the bus stop can be modeled as a poisson process. Say buses arrive at a rate of 5 per hour (λ = 5). You just arrived at the bus stop. What is the probability that the next bus will arrive at the stop in the next 10 minutes. Additionally, find the probability that there will be a bus arriving in the next 5 minutes if there was no bus in the last 10 minutes.<br>"
   ],
   "cell_type": "markdown",
   "metadata": {}
  },
  {
   "source": [
    "#### Answer 3:\n",
    "\n",
    "#### i. Probability of the next bus arriving in next 10 minutes\n",
    "\n",
    "- The probability of the next bus arriving in next 10 minutes is equal to $1 - \\text{the probability of no bus arriving in next 10 minutes}$ \n",
    "\n",
    "- The average number of buses per 10 minutes is $5/6$\n",
    "\n",
    "#### Therefore, \n",
    "\n",
    "$$P(Bus_{\\ge0,\\,10\\,mins}) = 1 - P(Bus_{0,\\,10\\,mins})$$ <br>\n",
    "\n",
    "$$\\implies P(Bus_{\\ge0,\\,10\\,mins}) = 1 - \\frac{\\lambda^{k}e^{-\\lambda}}{k!}, \\quad \\text{where} \\; \\lambda=5/6,\\: k = 0;$$ <br>\n",
    "\n",
    "$$\\implies P(Bus_{\\ge0,\\,10\\,mins}) = 0.5654$$ <br>\n",
    "\n",
    "#### ii. Probability of a bus arriving in the next 5 minutes if there was no bus in the last 10 minutes.\n",
    "\n",
    "- The distribution of the waiting times in the Poisson process is memoryless i.e., \n",
    "\n",
    "$$P(T>t+s|T>s)=P(T>t)$$ <br>\n",
    "\n",
    "- Therefore, in our case what has happened in the previous 10 minutes is immaterial. The answer would be similar to the answer in part (i) above, with the only difference that the probability is required for next 5 minutes instead of next 10 minutes.\n",
    "\n",
    "#### Therefore, \n",
    "\n",
    "$$P(Bus_{\\ge0,\\,5\\,mins}) = 1 - P(Bus_{0,\\,5\\,mins})$$ <br>\n",
    "\n",
    "$$\\implies P(Bus_{\\ge0,\\,5\\,mins}) = 1 - \\frac{\\lambda^{k}e^{-\\lambda}}{k!}, \\quad \\text{where} \\; \\lambda=5/12,\\: k = 0;$$ <br>\n",
    "\n",
    "$$\\implies P(Bus_{\\ge0,\\,5\\,mins}) = 0.3408$$ <br>"
   ],
   "cell_type": "markdown",
   "metadata": {}
  },
  {
   "cell_type": "code",
   "execution_count": 2,
   "metadata": {},
   "outputs": [
    {
     "output_type": "stream",
     "name": "stdout",
     "text": [
      "Probability of a bus arriving in the next 10 minutes is 0.5654\nProbability of a bus arriving in the next 5 minutes is 0.3408\n"
     ]
    }
   ],
   "source": [
    "# Calculations\n",
    "\n",
    "prob_bus_10mins = 1 - poisson_pmf(5/6, 0)\n",
    "prob_bus_5mins = 1 - poisson_pmf(5/12, 0)\n",
    "print('Probability of a bus arriving in the next 10 minutes is {:.4f}'.format(prob_bus_10mins))\n",
    "print('Probability of a bus arriving in the next 5 minutes is {:.4f}'.format(prob_bus_5mins))"
   ]
  },
  {
   "source": [
    "---"
   ],
   "cell_type": "markdown",
   "metadata": {}
  },
  {
   "source": [
    "#### Q4. Suppose you are given the PMF function of a random variable X such that P (X = −2) = P (X = 2) = 1/8, P (X = −1) = P (X = 1) = 1/8, P (X = 0) = 1/2. Lets define $Y = X^2$. Compute the PMF and the CDF of the random variable Y.<br>"
   ],
   "cell_type": "markdown",
   "metadata": {}
  },
  {
   "source": [
    "#### Answer 4:\n",
    "\n",
    "$$\n",
    "\\mathrm{P}_X(k) = \\begin{cases}\n",
    "    1/8 & \\text{if } k = -2,2 \\\\ % & is your \"\\tab\"-like command (it's a tab alignment character)\n",
    "    1/8 & \\text{if } k = -1,1 \\\\\n",
    "    1/2 & \\text{if } k = 0 \\\\\n",
    "    0 & \\text{otherwise}\n",
    "\\end{cases}\n",
    "$$ <br>\n",
    "\n",
    "- Thus, $X \\in \\{-2, -1, 0, 1, 2\\}$  and the sum the PMF of X is 1\n",
    "- Thus, for $Y = X^2$, $Y \\in \\{0, 1, 4\\}$\n",
    "\n",
    "$$\\therefore \\{Y=4\\} = \\{X=2\\} \\cup \\{X=-2\\}$$ <br>\n",
    "\n",
    "- In the above equation, the two events on the RHS are disjoint\n",
    "  \n",
    "  $$\\therefore P(Y=4) = P(X=2) + P(X=-2) = 1/4$$\n",
    "\n",
    "#### Thus, solving similarly for $Y = 0, 1$; we get the PMF of Y as:\n",
    "\n",
    "$$\n",
    "\\mathrm {P}_Y(k) = \\begin{cases}\n",
    "    1/2 & \\text{if } k = 0 \\\\\n",
    "    1/4 & \\text{if } k = 1 \\\\\n",
    "    1/4 & \\text{if } k = 4 \\\\\n",
    "    0 & \\text{otherwise}\n",
    "\\end{cases}\n",
    "$$ <br>\n",
    "\n",
    "#### CDF of Y is:\n",
    "\n",
    "$$ \n",
    "\\mathrm{P}_{Y\\le k}(k) = \\begin{cases}\n",
    "    1/2 & \\text{if }  0\\le k \\lt 1 \\\\ \n",
    "    3/4 & \\text{if }  1\\le k \\lt 4 \\\\\n",
    "    1 & \\text{if }  k \\ge 4 \\\\\n",
    "    0 & \\text{otherwise}\n",
    "\\end{cases} \n",
    "$$ <br>"
   ],
   "cell_type": "markdown",
   "metadata": {}
  },
  {
   "source": [
    "---"
   ],
   "cell_type": "markdown",
   "metadata": {}
  },
  {
   "source": [
    "<h2><p style=\"text-align:center;\"> The End. </p></h2>"
   ],
   "cell_type": "markdown",
   "metadata": {}
  },
  {
   "source": [
    "---"
   ],
   "cell_type": "markdown",
   "metadata": {}
  }
 ]
}